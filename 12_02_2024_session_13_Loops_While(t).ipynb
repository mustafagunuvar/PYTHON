{
 "cells": [
  {
   "cell_type": "markdown",
   "metadata": {},
   "source": [
    "# LOOPS"
   ]
  },
  {
   "cell_type": "markdown",
   "metadata": {},
   "source": [
    "## While"
   ]
  },
  {
   "cell_type": "code",
   "execution_count": null,
   "metadata": {},
   "outputs": [],
   "source": [
    "while 10 > 4: # calıstırma sonsuz döngü\n",
    "    print(\"Çalıştırma bu döngü sonsuz calısır\")"
   ]
  },
  {
   "cell_type": "code",
   "execution_count": 2,
   "metadata": {},
   "outputs": [
    {
     "name": "stdout",
     "output_type": "stream",
     "text": [
      "Bu döngü False olana kadar cıktı verir\n",
      "Bu döngü False olana kadar cıktı verir\n",
      "Bu döngü False olana kadar cıktı verir\n",
      "Bu döngü False olana kadar cıktı verir\n",
      "Bu döngü False olana kadar cıktı verir\n",
      "Bu döngü False olana kadar cıktı verir\n"
     ]
    }
   ],
   "source": [
    "x = 4\n",
    "\n",
    "while 10 > x:\n",
    "    print(\"Bu döngü False olana kadar cıktı verir\")\n",
    "\n",
    "    x += 1"
   ]
  },
  {
   "cell_type": "code",
   "execution_count": 3,
   "metadata": {},
   "outputs": [
    {
     "name": "stdout",
     "output_type": "stream",
     "text": [
      "1\n",
      "2\n",
      "3\n",
      "4\n",
      "5\n",
      "6\n",
      "7\n",
      "8\n",
      "9\n"
     ]
    }
   ],
   "source": [
    "x = 1\n",
    "\n",
    "while x < 10:\n",
    "    print(x)\n",
    "\n",
    "    x += 1\n",
    "\n"
   ]
  },
  {
   "cell_type": "code",
   "execution_count": null,
   "metadata": {},
   "outputs": [],
   "source": [
    "x = 1          \n",
    "\n",
    "while x < 10:\n",
    "    print(x)\n",
    "\n",
    "x += 1   # while işlem döngüsü içerisinde olmadığından dolayı sonsuz calısır\n",
    "         # ÇALIŞTIRMA"
   ]
  },
  {
   "cell_type": "code",
   "execution_count": 4,
   "metadata": {},
   "outputs": [
    {
     "name": "stdout",
     "output_type": "stream",
     "text": [
      "2\n",
      "3\n",
      "4\n",
      "5\n",
      "6\n",
      "7\n",
      "8\n",
      "9\n",
      "10\n"
     ]
    }
   ],
   "source": [
    "x = 1 \n",
    "\n",
    "while x < 10:\n",
    "    x += 1     # x += 1 printtin yukarısında olduğu için böyle oldu\n",
    "    print(x)"
   ]
  },
  {
   "cell_type": "code",
   "execution_count": 5,
   "metadata": {},
   "outputs": [],
   "source": [
    "while False:\n",
    "    print(\"Sanki çıktı vermeyecek\")"
   ]
  },
  {
   "cell_type": "code",
   "execution_count": 6,
   "metadata": {},
   "outputs": [],
   "source": [
    "while \"\":\n",
    "    print(\"Bu da cıktı vermez\")"
   ]
  },
  {
   "cell_type": "code",
   "execution_count": null,
   "metadata": {},
   "outputs": [],
   "source": [
    "x = 1\n",
    "\n",
    "while True:  #ÇALIŞTIRMA SONSUZA GİDER\n",
    "    print(x, \"Çalıştırma sonsuza gider\")\n",
    "    x += 1"
   ]
  },
  {
   "cell_type": "code",
   "execution_count": 7,
   "metadata": {},
   "outputs": [],
   "source": [
    "x = 5"
   ]
  },
  {
   "cell_type": "code",
   "execution_count": 9,
   "metadata": {},
   "outputs": [
    {
     "data": {
      "text/plain": [
       "20"
      ]
     },
     "execution_count": 9,
     "metadata": {},
     "output_type": "execute_result"
    }
   ],
   "source": [
    "x *= 2   # x = x * 2 anlamına gelir\n",
    "x"
   ]
  },
  {
   "cell_type": "code",
   "execution_count": 10,
   "metadata": {},
   "outputs": [
    {
     "data": {
      "text/plain": [
       "400"
      ]
     },
     "execution_count": 10,
     "metadata": {},
     "output_type": "execute_result"
    }
   ],
   "source": [
    "x **= 2  # x = x ** 2 anlamına gelir\n",
    "x"
   ]
  },
  {
   "cell_type": "code",
   "execution_count": 11,
   "metadata": {},
   "outputs": [
    {
     "name": "stdout",
     "output_type": "stream",
     "text": [
      "while döngüsü condation False olana kadar çalışır\n"
     ]
    }
   ],
   "source": [
    "y = True\n",
    "\n",
    "while y:\n",
    "    print(\"while döngüsü condation False olana kadar çalışır\")\n",
    "    y = False"
   ]
  },
  {
   "cell_type": "code",
   "execution_count": 12,
   "metadata": {},
   "outputs": [
    {
     "name": "stdout",
     "output_type": "stream",
     "text": [
      "deneme 1\n",
      "deneme 2\n",
      "deneme 3\n",
      "3 deneme hakkın bitti\n"
     ]
    }
   ],
   "source": [
    "x = 1\n",
    "\n",
    "while x <= 3:\n",
    "    print(f\"deneme {x}\")\n",
    "\n",
    "    x += 1\n",
    "print(\"3 deneme hakkın bitti\")\n"
   ]
  },
  {
   "cell_type": "code",
   "execution_count": 15,
   "metadata": {},
   "outputs": [
    {
     "name": "stdout",
     "output_type": "stream",
     "text": [
      "Deneme: 1\n",
      "3 deneme hakkın bitti\n",
      "Deneme: 2\n",
      "3 deneme hakkın bitti\n",
      "Deneme: 3\n",
      "3 deneme hakkın bitti\n"
     ]
    }
   ],
   "source": [
    "x = 1\n",
    "\n",
    "while x <= 3:\n",
    "    print(f\"Deneme: {x}\")\n",
    "    x += 1\n",
    "    print(\"3 deneme hakkın bitti\")    # burada alttaki print while döngüsünün içerisinde olursa böyle yanlış çalışır"
   ]
  },
  {
   "cell_type": "code",
   "execution_count": 16,
   "metadata": {},
   "outputs": [
    {
     "name": "stdout",
     "output_type": "stream",
     "text": [
      "1 in karesi: 1\n",
      "2 in karesi: 4\n",
      "3 in karesi: 9\n",
      "4 in karesi: 16\n",
      "5 in karesi: 25\n"
     ]
    }
   ],
   "source": [
    "x = 1 \n",
    "\n",
    "while x <= 5:\n",
    "    print(f\"{x} in karesi: {x ** 2}\")\n",
    "    x += 1"
   ]
  },
  {
   "cell_type": "code",
   "execution_count": 19,
   "metadata": {},
   "outputs": [
    {
     "name": "stdout",
     "output_type": "stream",
     "text": [
      "Kilomu 80 tahmin etti. Bu yanlış. Bir daha dene\n",
      "Kilomu 75 tahmin etti. Bu yanlış. Bir daha dene\n",
      "Kilomu 89 tahmin etti. Bu yanlış. Bir daha dene\n"
     ]
    }
   ],
   "source": [
    "x = int(input(\"Kilomu tahmin et. 10 luk kilolar tahmininde bulunabilirsin\"))\n",
    "\n",
    "while x < 90:\n",
    "    print(f\"Kilomu {x} tahmin etti. Bu yanlış. Bir daha dene\")\n",
    "    x = int(input(\"Kilomu tahmin et. 10 luk kilolar tahmininde bulunabilirsin\"))\n",
    "\n"
   ]
  },
  {
   "cell_type": "code",
   "execution_count": 21,
   "metadata": {},
   "outputs": [
    {
     "name": "stdout",
     "output_type": "stream",
     "text": [
      "55 tahmininde bulundun. Bu doğru. Tebrikler\n"
     ]
    }
   ],
   "source": [
    "y = True\n",
    "\n",
    "aklımdaki_sayı = 55\n",
    "\n",
    "while y:\n",
    "    tahmin = int(input(\"Bir tahminde bulun\"))\n",
    "    if tahmin < aklımdaki_sayı:\n",
    "        print(f\"{tahmin} tahmininde bulundun. Bunu artır\")\n",
    "    elif tahmin > aklımdaki_sayı:\n",
    "        print(f\"{tahmin} tahmininde bulundun. Bunu azalt\")\n",
    "    else :\n",
    "        print(f\"{tahmin} tahmininde bulundun. Bu doğru. Tebrikler\")\n",
    "        y = False\n",
    "    "
   ]
  },
  {
   "cell_type": "code",
   "execution_count": 22,
   "metadata": {},
   "outputs": [
    {
     "name": "stdout",
     "output_type": "stream",
     "text": [
      "50 tahmininde bulundun. Bunu artır\n",
      "60 tahmininde bulundun. Bunu azalt\n",
      "55 tahmininde bulundun. Doğru sayıyı 3. tahminde buldun. Tebrikler\n"
     ]
    }
   ],
   "source": [
    "y = True\n",
    "aklımdaki_sayı = 55\n",
    "sayaç = 0\n",
    "while y:\n",
    "    sayaç += 1\n",
    "    tahmin = int(input(\"Sayı tahmininde bulun\"))\n",
    "    if tahmin < aklımdaki_sayı:\n",
    "        print(f\"{tahmin} tahmininde bulundun. Bunu artır\")\n",
    "    elif tahmin > aklımdaki_sayı:\n",
    "        print(f\"{tahmin} tahmininde bulundun. Bunu azalt\")\n",
    "    else :\n",
    "        print(f\"{tahmin} tahmininde bulundun. Doğru sayıyı {sayaç}. tahminde buldun. Tebrikler\")\n",
    "        y = False\n"
   ]
  },
  {
   "cell_type": "code",
   "execution_count": 25,
   "metadata": {},
   "outputs": [
    {
     "name": "stdout",
     "output_type": "stream",
     "text": [
      "51 tahmininde bulundun. Bunu artır.\n",
      "53 tahmininde bulundun. Bunu artır.\n",
      "55 tahmininde bulundun. 3 tahminde buldun. Tebrikler.\n"
     ]
    }
   ],
   "source": [
    "y = True\n",
    "aklımdaki_sayı = 55\n",
    "sayaç = 0\n",
    "while y:\n",
    "    tahmin = int(input(\"Sayı tahmininde bulun\"))\n",
    "    sayaç += 1\n",
    "    if tahmin < aklımdaki_sayı:\n",
    "        print(f\"{tahmin} tahmininde bulundun. Bunu artır.\")\n",
    "    elif tahmin > aklımdaki_sayı:\n",
    "        print(f\"{tahmin} tahmininde bulundun. Bunu azalt.\")\n",
    "    else:\n",
    "        print(f\"{tahmin} tahmininde bulundun. {sayaç} tahminde buldun. Tebrikler.\")\n",
    "        y = False\n",
    "    if sayaç == 5:\n",
    "        print(\"Tahmin hakkınız dolmuştur. Elendiniz\")\n",
    "        y = False\n",
    "    "
   ]
  },
  {
   "cell_type": "code",
   "execution_count": 27,
   "metadata": {},
   "outputs": [
    {
     "name": "stdout",
     "output_type": "stream",
     "text": [
      "50 tahmininde bulundun. Bunu artır.\n",
      "52 tahmininde bulundun. Bunu artır.\n",
      "55 tahmininde bulundun. 3 tahminde buldun. Tebrikler.\n"
     ]
    }
   ],
   "source": [
    "y = True\n",
    "aklımdaki_sayı = 55\n",
    "sayaç = 0\n",
    "while y:\n",
    "    tahmin = int(input(\"Sayı tahmininde bulun\"))\n",
    "    sayaç += 1\n",
    "    if tahmin < aklımdaki_sayı:\n",
    "        print(f\"{tahmin} tahmininde bulundun. Bunu artır.\")\n",
    "    elif tahmin > aklımdaki_sayı:\n",
    "        print(f\"{tahmin} tahmininde bulundun. Bunu azalt.\")\n",
    "    else:\n",
    "        print(f\"{tahmin} tahmininde bulundun. {sayaç} tahminde buldun. Tebrikler.\")\n",
    "        y = False\n",
    "    if sayaç == 5:\n",
    "        print(\"Tahmin hakkınız dolmuştur. Elendiniz\")\n",
    "        y = False"
   ]
  },
  {
   "cell_type": "code",
   "execution_count": 29,
   "metadata": {},
   "outputs": [
    {
     "data": {
      "text/plain": [
       "[1, 3, 4, 6, 5, 7]"
      ]
     },
     "execution_count": 29,
     "metadata": {},
     "output_type": "execute_result"
    }
   ],
   "source": [
    "sayılar_listesi = [1, 3, 4, 6, 5, 7]\n",
    "sayılar_listesi"
   ]
  },
  {
   "cell_type": "code",
   "execution_count": 33,
   "metadata": {},
   "outputs": [
    {
     "name": "stdout",
     "output_type": "stream",
     "text": [
      "1 karesi: 1\n",
      "3 karesi: 9\n",
      "4 karesi: 16\n",
      "6 karesi: 36\n",
      "5 karesi: 25\n",
      "7 karesi: 49\n"
     ]
    }
   ],
   "source": [
    "# Listenin elemanlarının karesini döndüren while döngüsünü yazınız..\n",
    "x = 0\n",
    "while x < len(sayılar_listesi):\n",
    "    print(f\"{sayılar_listesi[x]} karesi: {sayılar_listesi[x] ** 2}\")\n",
    "    x += 1"
   ]
  },
  {
   "cell_type": "code",
   "execution_count": 36,
   "metadata": {},
   "outputs": [
    {
     "name": "stdout",
     "output_type": "stream",
     "text": [
      "[16, 36]\n"
     ]
    }
   ],
   "source": [
    "# Listenin çift elemanlarının karesini list şeklinde döndüren while döngüsünü yazınız\n",
    "sayılar_listesi = [1, 3, 4, 6, 5, 7]\n",
    "çift_sayılar_karesi_listesi = []\n",
    "x = 0\n",
    "while x < len(sayılar_listesi):\n",
    "    if sayılar_listesi[x] % 2 == 0:\n",
    "        çift_sayılar_karesi_listesi .append(sayılar_listesi[x] ** 2)\n",
    "    x += 1\n",
    "print(çift_sayılar_karesi_listesi)"
   ]
  },
  {
   "cell_type": "markdown",
   "metadata": {},
   "source": [
    "[1, 5, 6, 7, 12, 14, 15, 18, 19, 32, 25]\n",
    "listenin tek elemanlarının karesini,\n",
    "çift elemanlarn 2 katını liste halinde döndüren while döngüsünü yazınız"
   ]
  },
  {
   "cell_type": "code",
   "execution_count": 38,
   "metadata": {},
   "outputs": [
    {
     "name": "stdout",
     "output_type": "stream",
     "text": [
      "Listenin tek elemanlarının karesi: [1, 25, 49, 225, 361, 625]\n",
      "Listenin çift elemanlarının 2 katı: [12, 24, 28, 36, 64]\n"
     ]
    }
   ],
   "source": [
    "liste = [1, 5, 6, 7, 12, 14, 15, 18, 19, 32, 25]\n",
    "tek_elemanların_karesi = []\n",
    "çift_elemanların_iki_katı = []\n",
    "x = 0\n",
    "while x < len(liste):\n",
    "    if liste[x] % 2 == 1:\n",
    "        tek_elemanların_karesi .append(liste[x] ** 2)\n",
    "    else: çift_elemanların_iki_katı .append(liste[x] * 2)\n",
    "    x += 1\n",
    "print(\"Listenin tek elemanlarının karesi:\", tek_elemanların_karesi)\n",
    "print(\"Listenin çift elemanlarının 2 katı:\", çift_elemanların_iki_katı)"
   ]
  },
  {
   "cell_type": "code",
   "execution_count": null,
   "metadata": {},
   "outputs": [],
   "source": []
  },
  {
   "cell_type": "code",
   "execution_count": null,
   "metadata": {},
   "outputs": [],
   "source": []
  },
  {
   "cell_type": "code",
   "execution_count": null,
   "metadata": {},
   "outputs": [],
   "source": []
  },
  {
   "cell_type": "code",
   "execution_count": null,
   "metadata": {},
   "outputs": [],
   "source": []
  },
  {
   "cell_type": "code",
   "execution_count": null,
   "metadata": {},
   "outputs": [],
   "source": []
  },
  {
   "cell_type": "code",
   "execution_count": null,
   "metadata": {},
   "outputs": [],
   "source": []
  },
  {
   "cell_type": "code",
   "execution_count": null,
   "metadata": {},
   "outputs": [],
   "source": []
  },
  {
   "cell_type": "code",
   "execution_count": null,
   "metadata": {},
   "outputs": [],
   "source": []
  },
  {
   "cell_type": "code",
   "execution_count": null,
   "metadata": {},
   "outputs": [],
   "source": []
  },
  {
   "cell_type": "code",
   "execution_count": null,
   "metadata": {},
   "outputs": [],
   "source": []
  },
  {
   "cell_type": "code",
   "execution_count": null,
   "metadata": {},
   "outputs": [],
   "source": []
  },
  {
   "cell_type": "code",
   "execution_count": null,
   "metadata": {},
   "outputs": [],
   "source": []
  },
  {
   "cell_type": "code",
   "execution_count": null,
   "metadata": {},
   "outputs": [],
   "source": []
  }
 ],
 "metadata": {
  "kernelspec": {
   "display_name": "Python 3",
   "language": "python",
   "name": "python3"
  },
  "language_info": {
   "codemirror_mode": {
    "name": "ipython",
    "version": 3
   },
   "file_extension": ".py",
   "mimetype": "text/x-python",
   "name": "python",
   "nbconvert_exporter": "python",
   "pygments_lexer": "ipython3",
   "version": "3.12.2"
  }
 },
 "nbformat": 4,
 "nbformat_minor": 2
}
