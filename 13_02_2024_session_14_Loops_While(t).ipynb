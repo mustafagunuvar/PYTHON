{
 "cells": [
  {
   "cell_type": "markdown",
   "metadata": {},
   "source": [
    "[1,5,6,7,12,14,15,18,19,32,25] listesinin tek elemanlarının karesini, çift elemanlarının 2 katını liste halinde döndüren while döngüsünü yazın"
   ]
  },
  {
   "cell_type": "code",
   "execution_count": 3,
   "metadata": {},
   "outputs": [
    {
     "name": "stdout",
     "output_type": "stream",
     "text": [
      "[1, 25, 12, 49, 24, 28, 225, 36, 361, 64, 625]\n"
     ]
    }
   ],
   "source": [
    "liste = [1,5,6,7,12,14,15,18,19,32,25]\n",
    "liste_1 = []\n",
    "x = 0\n",
    "while x < len(liste):\n",
    "    if liste[x] % 2:\n",
    "        liste_1 .append(liste[x] ** 2)\n",
    "    else :\n",
    "        liste_1 .append(liste[x] * 2)\n",
    "    x += 1\n",
    "\n",
    "print(liste_1)\n"
   ]
  },
  {
   "cell_type": "code",
   "execution_count": 6,
   "metadata": {},
   "outputs": [
    {
     "name": "stdout",
     "output_type": "stream",
     "text": [
      "bu kod calısır truthy bir ifade\n"
     ]
    }
   ],
   "source": [
    "if 5 % 3:\n",
    "    print(\"bu kod calısır truthy bir ifade\")\n",
    "    "
   ]
  },
  {
   "cell_type": "markdown",
   "metadata": {},
   "source": [
    "## Random Modulü"
   ]
  },
  {
   "cell_type": "code",
   "execution_count": 8,
   "metadata": {},
   "outputs": [],
   "source": [
    "import random   # import ifadesi modülü dosyaya aktarmak için kullanılır"
   ]
  },
  {
   "cell_type": "code",
   "execution_count": 17,
   "metadata": {},
   "outputs": [
    {
     "data": {
      "text/plain": [
       "0.7364841351169252"
      ]
     },
     "execution_count": 17,
     "metadata": {},
     "output_type": "execute_result"
    }
   ],
   "source": [
    "random.random() #0 dahil 1 dahil değil aralığnda sayılar üretir."
   ]
  },
  {
   "cell_type": "code",
   "execution_count": 21,
   "metadata": {},
   "outputs": [
    {
     "data": {
      "text/plain": [
       "0.5486946056438222"
      ]
     },
     "execution_count": 21,
     "metadata": {},
     "output_type": "execute_result"
    }
   ],
   "source": [
    "random.seed(35) # belli bir sabite göre aynı değerleri rassal olarak üretir. \n",
    "random.random()"
   ]
  },
  {
   "cell_type": "code",
   "execution_count": 25,
   "metadata": {},
   "outputs": [
    {
     "data": {
      "text/plain": [
       "2"
      ]
     },
     "execution_count": 25,
     "metadata": {},
     "output_type": "execute_result"
    }
   ],
   "source": [
    "random .randint(1, 6)"
   ]
  },
  {
   "cell_type": "code",
   "execution_count": 31,
   "metadata": {},
   "outputs": [
    {
     "data": {
      "text/plain": [
       "[65, 1, 12, 92, 63]"
      ]
     },
     "execution_count": 31,
     "metadata": {},
     "output_type": "execute_result"
    }
   ],
   "source": [
    "random .sample(range(100), 5)  # sample bir liste oluşturur. range 1 den 100 e sıralar. sample ise 5 sayı belirler random.."
   ]
  },
  {
   "cell_type": "code",
   "execution_count": 28,
   "metadata": {},
   "outputs": [
    {
     "name": "stdout",
     "output_type": "stream",
     "text": [
      "50 tahmininde bulundun. Bunu artır\n",
      "50 tahmininde bulundun. Bunu artır\n",
      "75 tahmininde bulundun. Bunu azalt\n",
      "60 tahmininde bulundun. Bunu artır\n",
      "65 tahmininde bulundun. Bunu artır\n",
      "5 tahminde doğruyu bulamadın. Elendin\n"
     ]
    }
   ],
   "source": [
    "y = True\n",
    "\n",
    "aklımdaki_sayı = random .randint(1, 100)\n",
    "\n",
    "sayaç = 0\n",
    "\n",
    "while y:\n",
    "    sayaç += 1\n",
    "    tahmin = int(input(\"1 ile 100 arasında bir sayı tahmin et\"))\n",
    "    if tahmin < aklımdaki_sayı:\n",
    "        print(f\"{tahmin} tahmininde bulundun. Bunu artır\")\n",
    "    elif tahmin > aklımdaki_sayı:\n",
    "        print(f\"{tahmin} tahmininde bulundun. Bunu azalt\")\n",
    "    else :\n",
    "        print(f\"{tahmin} tahmininde bulundun. Doğru bildin. Tebrikler\")\n",
    "        y = False\n",
    "    if sayaç == 5:\n",
    "        print(\"5 tahminde doğruyu bulamadın. Elendin\")\n",
    "        y = False"
   ]
  },
  {
   "cell_type": "code",
   "execution_count": 33,
   "metadata": {},
   "outputs": [
    {
     "name": "stdout",
     "output_type": "stream",
     "text": [
      "50 tahmininde bulundun. Bunu artır\n",
      "75 tahmininde bulundun. Bunu artır\n",
      "90 tahmininde bulundun. Bunu artır\n",
      "90 tahmininde bulundun. Bunu artır\n",
      "98 tahmininde bulundun. Bunu azalt\n",
      "5 tahminde doğruyu bulamadın. Elendin\n",
      "Doğru tahmin: 94\n"
     ]
    }
   ],
   "source": [
    "y = True\n",
    "\n",
    "aklımdaki_sayı = random .randint(1, 100)\n",
    "\n",
    "sayaç = 0\n",
    "\n",
    "while y:\n",
    "    sayaç += 1\n",
    "    tahmin = int(input(\"1 ile 100 arasında bir sayı tahmin et\"))\n",
    "    if tahmin < aklımdaki_sayı:\n",
    "        print(f\"{tahmin} tahmininde bulundun. Bunu artır\")\n",
    "    elif tahmin > aklımdaki_sayı:\n",
    "        print(f\"{tahmin} tahmininde bulundun. Bunu azalt\")\n",
    "    else :\n",
    "        print(f\"{tahmin} tahmininde bulundun. Doğru bildin. Tebrikler\")\n",
    "        break\n",
    "    if sayaç == 5:\n",
    "        print(\"5 tahminde doğruyu bulamadın. Elendin\")\n",
    "        print(f\"Doğru tahmin:\", aklımdaki_sayı)\n",
    "        break"
   ]
  },
  {
   "cell_type": "code",
   "execution_count": 34,
   "metadata": {},
   "outputs": [
    {
     "name": "stdout",
     "output_type": "stream",
     "text": [
      "50 tahmininde bulundun. Bunu azalt\n",
      "25 tahmininde bulundun. Bunu azalt\n",
      "13 tahmininde bulundun. Bunu azalt\n",
      "5 tahmininde bulundun. Bunu azalt\n",
      "3 tahmininde bulundun. Bunu artır\n",
      "5 tahminde doğruyu bulamadın. Elendin\n",
      "Doğru tahmin: 4\n"
     ]
    }
   ],
   "source": [
    "import time\n",
    "y = True\n",
    "\n",
    "aklımdaki_sayı = random .randint(1, 100)\n",
    "\n",
    "time .sleep(1)\n",
    "\n",
    "sayaç = 0\n",
    "\n",
    "while y:\n",
    "    sayaç += 1\n",
    "    tahmin = int(input(\"1 ile 100 arasında bir sayı tahmin et\"))\n",
    "    if tahmin < aklımdaki_sayı:\n",
    "        print(f\"{tahmin} tahmininde bulundun. Bunu artır\")\n",
    "        time .sleep(1)\n",
    "    elif tahmin > aklımdaki_sayı:\n",
    "        print(f\"{tahmin} tahmininde bulundun. Bunu azalt\")\n",
    "    else :\n",
    "        print(f\"{tahmin} tahmininde bulundun. Doğru bildin. Tebrikler\")\n",
    "        break\n",
    "        time .sleep(1)\n",
    "    if sayaç == 5:\n",
    "        print(\"5 tahminde doğruyu bulamadın. Elendin\")\n",
    "        print(f\"Doğru tahmin:\", aklımdaki_sayı)\n",
    "        break"
   ]
  },
  {
   "cell_type": "code",
   "execution_count": 41,
   "metadata": {},
   "outputs": [
    {
     "name": "stdout",
     "output_type": "stream",
     "text": [
      "10\n"
     ]
    }
   ],
   "source": [
    "liste_3 = [1, 2, 3, 4, \"Techpro\", 5, 6, 7]\n",
    "\n",
    "x = 0\n",
    "\n",
    "toplam = 0\n",
    "\n",
    "while x < len(liste_3):\n",
    "    if type(liste_3[x]) == int:\n",
    "        toplam += liste_3[x]\n",
    "    elif type(liste_3[x]) == str:\n",
    "        break\n",
    "    x += 1\n",
    "\n",
    "print(toplam)\n",
    "        \n",
    "  "
   ]
  },
  {
   "cell_type": "code",
   "execution_count": 42,
   "metadata": {},
   "outputs": [
    {
     "name": "stdout",
     "output_type": "stream",
     "text": [
      "28\n"
     ]
    }
   ],
   "source": [
    "liste_3 = [1, 2, 3, 4, \"Techpro\", 5, 6, 7]\n",
    "\n",
    "x = 0\n",
    "\n",
    "toplam = 0\n",
    "\n",
    "while x < len(liste_3):\n",
    "    if type(liste_3[x]) == int:\n",
    "        toplam += liste_3[x]\n",
    "    elif type(liste_3[x]) == str:\n",
    "        x += 1\n",
    "        continue\n",
    "    x += 1\n",
    "\n",
    "print(toplam)"
   ]
  },
  {
   "cell_type": "markdown",
   "metadata": {},
   "source": [
    "## min() ve max()"
   ]
  },
  {
   "cell_type": "code",
   "execution_count": 43,
   "metadata": {},
   "outputs": [],
   "source": [
    "liste = [2, 5, 1, 3, 9, 4, 6, 8, 15, 48, 256]\n"
   ]
  },
  {
   "cell_type": "code",
   "execution_count": 44,
   "metadata": {},
   "outputs": [
    {
     "data": {
      "text/plain": [
       "1"
      ]
     },
     "execution_count": 44,
     "metadata": {},
     "output_type": "execute_result"
    }
   ],
   "source": [
    "min(liste)"
   ]
  },
  {
   "cell_type": "code",
   "execution_count": 45,
   "metadata": {},
   "outputs": [
    {
     "data": {
      "text/plain": [
       "256"
      ]
     },
     "execution_count": 45,
     "metadata": {},
     "output_type": "execute_result"
    }
   ],
   "source": [
    "max(liste)"
   ]
  },
  {
   "cell_type": "code",
   "execution_count": 46,
   "metadata": {},
   "outputs": [],
   "source": [
    "tuple = (5,8,4,6,9)"
   ]
  },
  {
   "cell_type": "code",
   "execution_count": 48,
   "metadata": {},
   "outputs": [
    {
     "data": {
      "text/plain": [
       "4"
      ]
     },
     "execution_count": 48,
     "metadata": {},
     "output_type": "execute_result"
    }
   ],
   "source": [
    "min(tuple)"
   ]
  },
  {
   "cell_type": "code",
   "execution_count": 49,
   "metadata": {},
   "outputs": [
    {
     "data": {
      "text/plain": [
       "9"
      ]
     },
     "execution_count": 49,
     "metadata": {},
     "output_type": "execute_result"
    }
   ],
   "source": [
    "max(tuple)"
   ]
  },
  {
   "cell_type": "code",
   "execution_count": 50,
   "metadata": {},
   "outputs": [
    {
     "data": {
      "text/plain": [
       "'ayhan'"
      ]
     },
     "execution_count": 50,
     "metadata": {},
     "output_type": "execute_result"
    }
   ],
   "source": [
    "min([\"techpro\", \"ayhan\", \"irem\"])"
   ]
  },
  {
   "cell_type": "code",
   "execution_count": 51,
   "metadata": {},
   "outputs": [
    {
     "ename": "TypeError",
     "evalue": "'<' not supported between instances of 'int' and 'str'",
     "output_type": "error",
     "traceback": [
      "\u001b[1;31m---------------------------------------------------------------------------\u001b[0m",
      "\u001b[1;31mTypeError\u001b[0m                                 Traceback (most recent call last)",
      "Cell \u001b[1;32mIn[51], line 1\u001b[0m\n\u001b[1;32m----> 1\u001b[0m \u001b[38;5;28;43mmin\u001b[39;49m\u001b[43m(\u001b[49m\u001b[43m[\u001b[49m\u001b[38;5;124;43m\"\u001b[39;49m\u001b[38;5;124;43mtechpro\u001b[39;49m\u001b[38;5;124;43m\"\u001b[39;49m\u001b[43m,\u001b[49m\u001b[43m \u001b[49m\u001b[38;5;124;43m\"\u001b[39;49m\u001b[38;5;124;43mayhan\u001b[39;49m\u001b[38;5;124;43m\"\u001b[39;49m\u001b[43m,\u001b[49m\u001b[43m \u001b[49m\u001b[38;5;124;43m\"\u001b[39;49m\u001b[38;5;124;43mirem\u001b[39;49m\u001b[38;5;124;43m\"\u001b[39;49m\u001b[43m,\u001b[49m\u001b[38;5;241;43m15\u001b[39;49m\u001b[43m]\u001b[49m\u001b[43m)\u001b[49m\n",
      "\u001b[1;31mTypeError\u001b[0m: '<' not supported between instances of 'int' and 'str'"
     ]
    }
   ],
   "source": [
    "min([\"techpro\", \"ayhan\", \"irem\",15])"
   ]
  },
  {
   "cell_type": "markdown",
   "metadata": {},
   "source": [
    "4,5,6,9,85,23,65,47,32,91]liste_1 = [ listenin en küçük ve en büyük elemanını min ve max fpnksiyonu kullanmadan bulun. sort fonk da kullanmayın. "
   ]
  },
  {
   "cell_type": "code",
   "execution_count": 2,
   "metadata": {},
   "outputs": [
    {
     "name": "stdout",
     "output_type": "stream",
     "text": [
      "Listenin en büyük elemanı: 91\n",
      "Listenin en küçük elemanı: 4\n"
     ]
    }
   ],
   "source": [
    "liste_1 = [4, 5, 6, 9, 85, 23, 65, 47, 32, 91]\n",
    "\n",
    "x = 0 \n",
    "\n",
    "max_deger = liste_1[0]\n",
    "\n",
    "min_deger = liste_1[0]\n",
    "\n",
    "while x < len(liste_1):\n",
    "   \n",
    "    if liste_1[x] > max_deger:\n",
    "        max_deger = liste_1[x]\n",
    "    x += 1\n",
    "\n",
    "print(\"Listenin en büyük elemanı:\", max_deger)\n",
    "\n",
    "while x < len(liste_1):\n",
    "    if liste_1[x] < min_deger:\n",
    "        min_deger = liste_1[x]\n",
    "    x += 1\n",
    "\n",
    "print(\"Listenin en küçük elemanı:\", min_deger)"
   ]
  },
  {
   "cell_type": "code",
   "execution_count": null,
   "metadata": {},
   "outputs": [],
   "source": []
  },
  {
   "cell_type": "code",
   "execution_count": null,
   "metadata": {},
   "outputs": [],
   "source": []
  },
  {
   "cell_type": "code",
   "execution_count": null,
   "metadata": {},
   "outputs": [],
   "source": []
  },
  {
   "cell_type": "code",
   "execution_count": null,
   "metadata": {},
   "outputs": [],
   "source": []
  },
  {
   "cell_type": "code",
   "execution_count": null,
   "metadata": {},
   "outputs": [],
   "source": []
  },
  {
   "cell_type": "code",
   "execution_count": null,
   "metadata": {},
   "outputs": [],
   "source": []
  },
  {
   "cell_type": "code",
   "execution_count": null,
   "metadata": {},
   "outputs": [],
   "source": []
  },
  {
   "cell_type": "code",
   "execution_count": null,
   "metadata": {},
   "outputs": [],
   "source": []
  },
  {
   "cell_type": "code",
   "execution_count": null,
   "metadata": {},
   "outputs": [],
   "source": []
  },
  {
   "cell_type": "code",
   "execution_count": null,
   "metadata": {},
   "outputs": [],
   "source": []
  }
 ],
 "metadata": {
  "kernelspec": {
   "display_name": "Python 3",
   "language": "python",
   "name": "python3"
  },
  "language_info": {
   "codemirror_mode": {
    "name": "ipython",
    "version": 3
   },
   "file_extension": ".py",
   "mimetype": "text/x-python",
   "name": "python",
   "nbconvert_exporter": "python",
   "pygments_lexer": "ipython3",
   "version": "3.12.2"
  }
 },
 "nbformat": 4,
 "nbformat_minor": 2
}
