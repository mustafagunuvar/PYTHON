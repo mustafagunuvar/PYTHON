{
 "cells": [
  {
   "cell_type": "code",
   "execution_count": 1,
   "metadata": {},
   "outputs": [
    {
     "name": "stdout",
     "output_type": "stream",
     "text": [
      "[1, 4, 9, 16, 25]\n"
     ]
    }
   ],
   "source": [
    "liste_1 = [1, 2, 3, 4, 5]\n",
    "\n",
    "empty_list = []\n",
    "\n",
    "for i in liste_1:\n",
    "    empty_list .append(i ** 2)\n",
    "\n",
    "print(empty_list)"
   ]
  },
  {
   "cell_type": "code",
   "execution_count": 2,
   "metadata": {},
   "outputs": [
    {
     "data": {
      "text/plain": [
       "[1, 4, 9, 16, 25]"
      ]
     },
     "execution_count": 2,
     "metadata": {},
     "output_type": "execute_result"
    }
   ],
   "source": [
    "[i ** 2 for i in liste_1]"
   ]
  },
  {
   "cell_type": "code",
   "execution_count": 4,
   "metadata": {},
   "outputs": [
    {
     "data": {
      "text/plain": [
       "['renault!', 'fiat*', 'ford?']"
      ]
     },
     "execution_count": 4,
     "metadata": {},
     "output_type": "execute_result"
    }
   ],
   "source": [
    "liste_2 = [ \"renault!\", \"fiat*\", \"ford?\"]\n",
    "liste_2"
   ]
  },
  {
   "cell_type": "code",
   "execution_count": 5,
   "metadata": {},
   "outputs": [
    {
     "name": "stdout",
     "output_type": "stream",
     "text": [
      "renault\n",
      "fiat\n",
      "ford\n"
     ]
    }
   ],
   "source": [
    "for i in liste_2:\n",
    "    print(i .replace(\"!\", \"\") .replace(\"*\", \"\") .replace(\"?\", \"\"))"
   ]
  },
  {
   "cell_type": "code",
   "execution_count": 8,
   "metadata": {},
   "outputs": [
    {
     "name": "stdout",
     "output_type": "stream",
     "text": [
      "renault\n",
      "fiat\n",
      "ford\n"
     ]
    }
   ],
   "source": [
    "for i in liste_2:\n",
    "    print(i .strip(\"!*?\"))"
   ]
  },
  {
   "cell_type": "code",
   "execution_count": 7,
   "metadata": {},
   "outputs": [
    {
     "data": {
      "text/plain": [
       "['renault', 'fiat', 'ford']"
      ]
     },
     "execution_count": 7,
     "metadata": {},
     "output_type": "execute_result"
    }
   ],
   "source": [
    "[i .replace(\"!\", \"\") .replace(\"*\", \"\") .replace(\"?\", \"\") for i in liste_2]"
   ]
  },
  {
   "cell_type": "code",
   "execution_count": 9,
   "metadata": {},
   "outputs": [
    {
     "data": {
      "text/plain": [
       "['renault', 'fiat', 'ford']"
      ]
     },
     "execution_count": 9,
     "metadata": {},
     "output_type": "execute_result"
    }
   ],
   "source": [
    "[i .strip(\"!*?\") for i in liste_2]  # for dögüsünü tek başına kullanırsak işlem kısmını for un sol tarafına yazmamız gerekir"
   ]
  },
  {
   "cell_type": "code",
   "execution_count": 10,
   "metadata": {},
   "outputs": [
    {
     "name": "stdout",
     "output_type": "stream",
     "text": [
      "[1, 15, 5, 89, 45, 71, 45, 95, 61]\n"
     ]
    }
   ],
   "source": [
    "sayılar_listesi = [1, 15 ,2, 36, 5, 89, 45, 62, 52, 71, 30, 56, 45, 95, 61, 48]\n",
    "\n",
    "tek_sayılar = []\n",
    "\n",
    "for i in sayılar_listesi:\n",
    "    if i % 2:\n",
    "        tek_sayılar .append(i)\n",
    "\n",
    "print(tek_sayılar)"
   ]
  },
  {
   "cell_type": "markdown",
   "metadata": {},
   "source": [
    "## for + if"
   ]
  },
  {
   "cell_type": "code",
   "execution_count": 13,
   "metadata": {},
   "outputs": [
    {
     "data": {
      "text/plain": [
       "[1, 15, 5, 89, 45, 71, 45, 95, 61]"
      ]
     },
     "execution_count": 13,
     "metadata": {},
     "output_type": "execute_result"
    }
   ],
   "source": [
    "[i for i in sayılar_listesi if i % 2]"
   ]
  },
  {
   "cell_type": "code",
   "execution_count": 12,
   "metadata": {},
   "outputs": [
    {
     "data": {
      "text/plain": [
       "[2, 36, 62, 52, 30, 56, 48]"
      ]
     },
     "execution_count": 12,
     "metadata": {},
     "output_type": "execute_result"
    }
   ],
   "source": [
    "[ i for i in sayılar_listesi if i % 2 == 0]"
   ]
  },
  {
   "cell_type": "code",
   "execution_count": 16,
   "metadata": {},
   "outputs": [],
   "source": [
    "a = [ i for i in sayılar_listesi if i % 2 == 1 ]\n",
    "# bu durumda aşağıdaki gibi none cıktı verir.."
   ]
  },
  {
   "cell_type": "code",
   "execution_count": 18,
   "metadata": {},
   "outputs": [
    {
     "data": {
      "text/plain": [
       "[1, 5, 15, 45, 45, 61, 71, 89, 95]"
      ]
     },
     "execution_count": 18,
     "metadata": {},
     "output_type": "execute_result"
    }
   ],
   "source": [
    "a .sort()\n",
    "a"
   ]
  },
  {
   "cell_type": "code",
   "execution_count": 16,
   "metadata": {},
   "outputs": [],
   "source": [
    "b = [i for i in sayılar_listesi if i % 2 == 0]"
   ]
  },
  {
   "cell_type": "code",
   "execution_count": 19,
   "metadata": {},
   "outputs": [],
   "source": [
    "b. sort()  # bu şekilde yaparsan none cıktı vermez. istediğimiz gibi yazdırır"
   ]
  },
  {
   "cell_type": "code",
   "execution_count": 18,
   "metadata": {},
   "outputs": [
    {
     "data": {
      "text/plain": [
       "[2, 30, 36, 48, 52, 56, 62]"
      ]
     },
     "execution_count": 18,
     "metadata": {},
     "output_type": "execute_result"
    }
   ],
   "source": [
    "b"
   ]
  },
  {
   "cell_type": "markdown",
   "metadata": {},
   "source": [
    "## for + if + else"
   ]
  },
  {
   "cell_type": "code",
   "execution_count": 20,
   "metadata": {},
   "outputs": [
    {
     "name": "stdout",
     "output_type": "stream",
     "text": [
      "[1, 225, 2, 36, 25, 7921, 2025, 62, 52, 5041, 30, 56, 2025, 9025, 3721, 48]\n"
     ]
    }
   ],
   "source": [
    "#  çift olanlar yerinde olduğu gibi kalsın, tek olanların karesini yazdırın\n",
    "sayılar_listesi = [1, 15, 2, 36, 5, 89, 45, 62, 52, 71, 30, 56, 45, 95, 61, 48]\n",
    "\n",
    "sonuc = []\n",
    "\n",
    "for i in sayılar_listesi:\n",
    "    if i % 2:\n",
    "        sonuc .append(i ** 2)\n",
    "    else:\n",
    "        sonuc .append(i)\n",
    "\n",
    "print(sonuc)\n"
   ]
  },
  {
   "cell_type": "code",
   "execution_count": 21,
   "metadata": {},
   "outputs": [
    {
     "data": {
      "text/plain": [
       "[1, 225, 2, 36, 25, 7921, 2025, 62, 52, 5041, 30, 56, 2025, 9025, 3721, 48]"
      ]
     },
     "execution_count": 21,
     "metadata": {},
     "output_type": "execute_result"
    }
   ],
   "source": [
    "[ i ** 2 if i % 2 == 1 else i for i in sayılar_listesi]\n",
    "\n",
    "# for if + else ile kullanılacaksa en sağa yazılır. diğer işlemler soldadır. \n",
    "#if in işlemi if in solunda, else in işlemi else in sağında yazılır. "
   ]
  },
  {
   "cell_type": "code",
   "execution_count": 23,
   "metadata": {},
   "outputs": [
    {
     "name": "stdout",
     "output_type": "stream",
     "text": [
      "4\n",
      "5\n",
      "6\n",
      "8\n",
      "10\n",
      "12\n",
      "12\n",
      "15\n",
      "18\n"
     ]
    }
   ],
   "source": [
    "for i in [1 ,2, 3]:\n",
    "    for j in (4, 5, 6):\n",
    "     print(i * j)"
   ]
  },
  {
   "cell_type": "code",
   "execution_count": 24,
   "metadata": {},
   "outputs": [
    {
     "data": {
      "text/plain": [
       "[4, 5, 6, 8, 10, 12, 12, 15, 18]"
      ]
     },
     "execution_count": 24,
     "metadata": {},
     "output_type": "execute_result"
    }
   ],
   "source": [
    "[ i * j  for i in [1, 2, 3] for j in (4, 5, 6)] "
   ]
  },
  {
   "cell_type": "code",
   "execution_count": 26,
   "metadata": {},
   "outputs": [
    {
     "data": {
      "text/plain": [
       "[4, 5, 6, 8, 10, 12, 12, 15, 18]"
      ]
     },
     "execution_count": 26,
     "metadata": {},
     "output_type": "execute_result"
    }
   ],
   "source": [
    "[ j * i  for i in [1, 2, 3] for j in (4, 5, 6)] # farketmiyor sonuc olarak i nin bulunduğu for dan başlıyor işlem"
   ]
  },
  {
   "cell_type": "markdown",
   "metadata": {},
   "source": [
    "# FUNCTIONS"
   ]
  },
  {
   "cell_type": "code",
   "execution_count": 1,
   "metadata": {},
   "outputs": [],
   "source": [
    "def kareler_toplamı(x, y):\n",
    "    print(x ** 2 + y ** 2)"
   ]
  },
  {
   "cell_type": "code",
   "execution_count": 28,
   "metadata": {},
   "outputs": [
    {
     "name": "stdout",
     "output_type": "stream",
     "text": [
      "Help on function kareler_toplamı in module __main__:\n",
      "\n",
      "kareler_toplamı(x, y)\n",
      "\n"
     ]
    }
   ],
   "source": [
    "help(kareler_toplamı)"
   ]
  },
  {
   "cell_type": "code",
   "execution_count": 29,
   "metadata": {},
   "outputs": [
    {
     "name": "stdout",
     "output_type": "stream",
     "text": [
      "34\n"
     ]
    }
   ],
   "source": [
    "kareler_toplamı(3, 5)"
   ]
  },
  {
   "cell_type": "code",
   "execution_count": 10,
   "metadata": {},
   "outputs": [],
   "source": [
    "def kareler_toplamı(x, y):\n",
    "\n",
    "    \"\"\"Bu fonksiyon iki tane sayının karelerinin toplamını verir\"\"\"\n",
    "\n",
    "    print(x ** 2 + y ** 2 )"
   ]
  },
  {
   "cell_type": "code",
   "execution_count": 6,
   "metadata": {},
   "outputs": [
    {
     "name": "stdout",
     "output_type": "stream",
     "text": [
      "Help on built-in function len in module builtins:\n",
      "\n",
      "len(obj, /)\n",
      "    Return the number of items in a container.\n",
      "\n"
     ]
    }
   ],
   "source": [
    "\n",
    "help(len)\n"
   ]
  },
  {
   "cell_type": "code",
   "execution_count": 12,
   "metadata": {},
   "outputs": [
    {
     "name": "stdout",
     "output_type": "stream",
     "text": [
      "13\n"
     ]
    }
   ],
   "source": [
    "kareler_toplamı(2,3)   # gerekli parametreleri girmez isek hata alırız"
   ]
  },
  {
   "cell_type": "code",
   "execution_count": null,
   "metadata": {},
   "outputs": [],
   "source": []
  },
  {
   "cell_type": "code",
   "execution_count": 13,
   "metadata": {},
   "outputs": [],
   "source": [
    "def neset_baba():\n",
    "    print(\"Kadınlar insandır. Biz insanoğlu\")"
   ]
  },
  {
   "cell_type": "code",
   "execution_count": 16,
   "metadata": {},
   "outputs": [
    {
     "name": "stdout",
     "output_type": "stream",
     "text": [
      "Kadınlar insandır. Biz insanoğlu\n"
     ]
    }
   ],
   "source": [
    "neset_baba()"
   ]
  },
  {
   "cell_type": "code",
   "execution_count": 18,
   "metadata": {},
   "outputs": [],
   "source": [
    "def calculator(num1, opr, num2):\n",
    "    if opr == \"+\":\n",
    "        print(num1 + num2)\n",
    "    elif opr == \"-\":\n",
    "        print(num1 - num2)\n",
    "    elif opr == \"x\":\n",
    "        print(num1 * num2)\n",
    "    elif opr == \"/\":\n",
    "        print(num1 / num2)\n",
    "    else:\n",
    "        print(\"Hatalı operatör girisi.\")"
   ]
  },
  {
   "cell_type": "code",
   "execution_count": 19,
   "metadata": {},
   "outputs": [
    {
     "name": "stdout",
     "output_type": "stream",
     "text": [
      "30\n"
     ]
    }
   ],
   "source": [
    "calculator(5, \"x\", 6)"
   ]
  },
  {
   "cell_type": "code",
   "execution_count": 44,
   "metadata": {},
   "outputs": [
    {
     "name": "stdout",
     "output_type": "stream",
     "text": [
      "Hatalı operatör girisi.\n"
     ]
    }
   ],
   "source": [
    "calculator(5, \"b\", 6)"
   ]
  },
  {
   "cell_type": "code",
   "execution_count": 45,
   "metadata": {},
   "outputs": [
    {
     "name": "stdout",
     "output_type": "stream",
     "text": [
      "Hatalı operatör girisi.\n"
     ]
    }
   ],
   "source": [
    "calculator(\"/\", 5, 6)"
   ]
  },
  {
   "cell_type": "code",
   "execution_count": 47,
   "metadata": {},
   "outputs": [
    {
     "name": "stdout",
     "output_type": "stream",
     "text": [
      "Techpro\n"
     ]
    }
   ],
   "source": [
    "calculator(\"Tech\", \"+\", \"pro\")"
   ]
  },
  {
   "cell_type": "code",
   "execution_count": 25,
   "metadata": {},
   "outputs": [],
   "source": [
    "def my_len(x):\n",
    "\n",
    "    \"\"\"Len fonksiyonunu begenmediğim için\n",
    "    kendi len fonksiyonumu yazıyorum\"\"\"\n",
    "\n",
    "    sayac = 0\n",
    "\n",
    "    for i in x:\n",
    "        sayac += 1\n",
    "\n",
    "    print(sayac)"
   ]
  },
  {
   "cell_type": "code",
   "execution_count": 22,
   "metadata": {},
   "outputs": [
    {
     "name": "stdout",
     "output_type": "stream",
     "text": [
      "t\n",
      "e\n",
      "c\n",
      "h\n",
      "p\n",
      "r\n",
      "o\n"
     ]
    }
   ],
   "source": [
    "for i in \"techpro\":\n",
    "    print(i)"
   ]
  },
  {
   "cell_type": "code",
   "execution_count": 26,
   "metadata": {},
   "outputs": [
    {
     "name": "stdout",
     "output_type": "stream",
     "text": [
      "7\n"
     ]
    }
   ],
   "source": [
    "my_len(\"Techpro\")"
   ]
  },
  {
   "cell_type": "code",
   "execution_count": 27,
   "metadata": {},
   "outputs": [
    {
     "name": "stdout",
     "output_type": "stream",
     "text": [
      "2\n"
     ]
    }
   ],
   "source": [
    "my_len([\"Ali\", \"Veli\"])"
   ]
  },
  {
   "cell_type": "markdown",
   "metadata": {},
   "source": [
    "ödev: Kullanıcıdan aldığınız bir sayının Armstrong number olup olmadığını kontrol eden algoritmayı oluşturun"
   ]
  },
  {
   "cell_type": "code",
   "execution_count": 27,
   "metadata": {},
   "outputs": [
    {
     "name": "stdout",
     "output_type": "stream",
     "text": [
      "154 sayısı armstrong sayı degildir\n"
     ]
    }
   ],
   "source": [
    "sayı = input(\"Lütfen Armstrong sayı olup olmadığını kontrol etmek istediğiniz sayıyı giriniz\")\n",
    "\n",
    "uzunluk = len(sayı)\n",
    "\n",
    "toplam = 0\n",
    "\n",
    "for i in sayı:\n",
    "\n",
    "    toplam = (int(i) ** uzunluk) + toplam\n",
    "\n",
    "if toplam == int(sayı):\n",
    "        print(f\"{sayı} sayısı armstrong sayıdır\")\n",
    "        \n",
    "\n",
    "else:\n",
    "    print(f\"{sayı} sayısı armstrong sayı degildir\")\n",
    "        \n"
   ]
  },
  {
   "cell_type": "code",
   "execution_count": 39,
   "metadata": {},
   "outputs": [],
   "source": [
    "def find_armstrong(x):\n",
    "\n",
    "    x = str(x)\n",
    "\n",
    "    toplam = 0\n",
    "\n",
    "    uzunluk = len(x)\n",
    "\n",
    "    for i in x:\n",
    "\n",
    "        toplam += int(i) ** uzunluk\n",
    "\n",
    "    if toplam == int(x):\n",
    "\n",
    "        print(f\"{x} sayısı armstrong sayıdır\")\n",
    "    else:\n",
    "        print(f\"{x} sayısı armstrong sayı degildir\")\n",
    "        "
   ]
  },
  {
   "cell_type": "code",
   "execution_count": 41,
   "metadata": {},
   "outputs": [
    {
     "name": "stdout",
     "output_type": "stream",
     "text": [
      "407 sayısı armstrong sayıdır\n"
     ]
    }
   ],
   "source": [
    "find_armstrong(407)"
   ]
  },
  {
   "cell_type": "code",
   "execution_count": 43,
   "metadata": {},
   "outputs": [
    {
     "data": {
      "text/plain": [
       "190"
      ]
     },
     "execution_count": 43,
     "metadata": {},
     "output_type": "execute_result"
    }
   ],
   "source": [
    "sum([(int(i) ** uzunluk) for i in str(x)])"
   ]
  },
  {
   "cell_type": "code",
   "execution_count": 46,
   "metadata": {},
   "outputs": [],
   "source": [
    "def find_armstrong_2(x):\n",
    "\n",
    "    x = str(x)\n",
    "\n",
    "    toplam = 0\n",
    "\n",
    "    uzunluk = len(x)\n",
    "\n",
    "    toplam += sum([(int(i) ** uzunluk) for i in str(x)])\n",
    "\n",
    "    if toplam == int(x):\n",
    "\n",
    "        print(f\"{x} sayısı armstrong sayıdır\")\n",
    "    else:\n",
    "        print(f\"{x} sayısı armstrong sayı degildir\")"
   ]
  },
  {
   "cell_type": "code",
   "execution_count": 48,
   "metadata": {},
   "outputs": [
    {
     "name": "stdout",
     "output_type": "stream",
     "text": [
      "408 sayısı armstrong sayı degildir\n"
     ]
    }
   ],
   "source": [
    "find_armstrong_2(408)"
   ]
  },
  {
   "cell_type": "code",
   "execution_count": 54,
   "metadata": {},
   "outputs": [],
   "source": [
    "def find_armstrong_3(x):\n",
    "\n",
    "    x = str(x)\n",
    "\n",
    "    uzunluk = len(x)\n",
    "\n",
    "\n",
    "    if sum([(int(i) ** uzunluk) for i in str(x)]) == int(x):\n",
    "        \n",
    "        return f\"{int(x)} sayısı armstrong sayıdır\"\n",
    "    \n",
    "    else:\n",
    "        print(f\"{x} sayısı armstrong sayı değildir\")\n",
    "\n",
    "     "
   ]
  },
  {
   "cell_type": "code",
   "execution_count": 55,
   "metadata": {},
   "outputs": [
    {
     "data": {
      "text/plain": [
       "'407 sayısı armstrong sayıdır'"
      ]
     },
     "execution_count": 55,
     "metadata": {},
     "output_type": "execute_result"
    }
   ],
   "source": [
    "find_armstrong_3(407)"
   ]
  },
  {
   "cell_type": "code",
   "execution_count": 53,
   "metadata": {},
   "outputs": [
    {
     "name": "stdout",
     "output_type": "stream",
     "text": [
      "408 sayısı armstrong sayı değildir\n"
     ]
    }
   ],
   "source": [
    "find_armstrong_3(408)"
   ]
  },
  {
   "cell_type": "code",
   "execution_count": null,
   "metadata": {},
   "outputs": [],
   "source": []
  },
  {
   "cell_type": "code",
   "execution_count": null,
   "metadata": {},
   "outputs": [],
   "source": []
  },
  {
   "cell_type": "code",
   "execution_count": null,
   "metadata": {},
   "outputs": [],
   "source": []
  },
  {
   "cell_type": "code",
   "execution_count": null,
   "metadata": {},
   "outputs": [],
   "source": []
  }
 ],
 "metadata": {
  "kernelspec": {
   "display_name": "Python 3",
   "language": "python",
   "name": "python3"
  },
  "language_info": {
   "codemirror_mode": {
    "name": "ipython",
    "version": 3
   },
   "file_extension": ".py",
   "mimetype": "text/x-python",
   "name": "python",
   "nbconvert_exporter": "python",
   "pygments_lexer": "ipython3",
   "version": "3.12.2"
  }
 },
 "nbformat": 4,
 "nbformat_minor": 2
}
