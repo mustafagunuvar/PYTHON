{
 "cells": [
  {
   "cell_type": "code",
   "execution_count": 2,
   "metadata": {},
   "outputs": [
    {
     "name": "stdout",
     "output_type": "stream",
     "text": [
      "Girilen saniye: 1 sa 51 dk 40 sn şeklinde bulunmuştur\n"
     ]
    }
   ],
   "source": [
    "saniye = int(input(\"Lütfen saniye sayısını giriniz\"))\n",
    "saat = saniye // 3600\n",
    "saniye = saniye % 3600\n",
    "dakika = saniye // 60\n",
    "saniye = saniye % 60\n",
    "print(\"Girilen saniye:\", saat, \"sa\", dakika, \"dk\", saniye, \"sn\", \"şeklinde bulunmuştur\")\n"
   ]
  },
  {
   "cell_type": "code",
   "execution_count": 7,
   "metadata": {},
   "outputs": [
    {
     "name": "stdout",
     "output_type": "stream",
     "text": [
      "Dairenin alanı: 30 şeklinde bulunmuştur\n"
     ]
    }
   ],
   "source": [
    "yarıçap = r = float(input(\"Lütfen yarıçapı giriniz\"))\n",
    "pi = 3.14\n",
    "alan = pi * (r ** 2)\n",
    "print(\"Dairenin alanı:\", int(alan), \"şeklinde bulunmuştur\")"
   ]
  },
  {
   "cell_type": "code",
   "execution_count": 9,
   "metadata": {},
   "outputs": [
    {
     "name": "stdout",
     "output_type": "stream",
     "text": [
      "Girilen saniye: 6 dk bulunmuştur\n"
     ]
    }
   ],
   "source": [
    "saniye = int(input(\"Lütfen saniyeyi giriniz\"))\n",
    "dakika = saniye / 60\n",
    "print(\"Girilen saniye:\", int(dakika), \"dk\", \"bulunmuştur\")"
   ]
  },
  {
   "cell_type": "code",
   "execution_count": 10,
   "metadata": {},
   "outputs": [
    {
     "ename": "ValueError",
     "evalue": "invalid literal for int() with base 10: '3.14'",
     "output_type": "error",
     "traceback": [
      "\u001b[1;31m---------------------------------------------------------------------------\u001b[0m",
      "\u001b[1;31mValueError\u001b[0m                                Traceback (most recent call last)",
      "Cell \u001b[1;32mIn[10], line 1\u001b[0m\n\u001b[1;32m----> 1\u001b[0m \u001b[38;5;28mint\u001b[39m(\u001b[38;5;124m\"\u001b[39m\u001b[38;5;124m3.14\u001b[39m\u001b[38;5;124m\"\u001b[39m)\n",
      "\u001b[1;31mValueError\u001b[0m: invalid literal for int() with base 10: '3.14'"
     ]
    }
   ],
   "source": [
    "int(\"3.14\")     #önce floata sonra int çevircez"
   ]
  },
  {
   "cell_type": "code",
   "execution_count": 11,
   "metadata": {},
   "outputs": [
    {
     "data": {
      "text/plain": [
       "3"
      ]
     },
     "execution_count": 11,
     "metadata": {},
     "output_type": "execute_result"
    }
   ],
   "source": [
    "int(float(\"3.14\"))"
   ]
  },
  {
   "cell_type": "markdown",
   "metadata": {},
   "source": [
    "# Print () Function"
   ]
  },
  {
   "cell_type": "code",
   "execution_count": 12,
   "metadata": {},
   "outputs": [
    {
     "name": "stdout",
     "output_type": "stream",
     "text": [
      "Mikal Serhan Mustafa\n"
     ]
    }
   ],
   "source": [
    "print(\"Mikal\", \"Serhan\", \"Mustafa\")"
   ]
  },
  {
   "cell_type": "code",
   "execution_count": 13,
   "metadata": {},
   "outputs": [
    {
     "name": "stdout",
     "output_type": "stream",
     "text": [
      "Mikail Serhan Mustafa\n"
     ]
    }
   ],
   "source": [
    "print(\"Mikail\",\"Serhan\",\"Mustafa\")"
   ]
  },
  {
   "cell_type": "code",
   "execution_count": 14,
   "metadata": {},
   "outputs": [
    {
     "name": "stdout",
     "output_type": "stream",
     "text": [
      "Mikail**Serhan**Mustafa\n"
     ]
    }
   ],
   "source": [
    "print(\"Mikail\", \"Serhan\", \"Mustafa\", sep= \"**\")"
   ]
  },
  {
   "cell_type": "code",
   "execution_count": 16,
   "metadata": {},
   "outputs": [
    {
     "name": "stdout",
     "output_type": "stream",
     "text": [
      "Mikail😀Serhan😀Mustafa\n"
     ]
    }
   ],
   "source": [
    "print(\"Mikail\", \"Serhan\", \"Mustafa\", sep=\"\\U0001F600\") # sevdim bunu"
   ]
  },
  {
   "cell_type": "code",
   "execution_count": 17,
   "metadata": {},
   "outputs": [
    {
     "name": "stdout",
     "output_type": "stream",
     "text": [
      "Help on built-in function print in module builtins:\n",
      "\n",
      "print(*args, sep=' ', end='\\n', file=None, flush=False)\n",
      "    Prints the values to a stream, or to sys.stdout by default.\n",
      "    \n",
      "    sep\n",
      "      string inserted between values, default a space.\n",
      "    end\n",
      "      string appended after the last value, default a newline.\n",
      "    file\n",
      "      a file-like object (stream); defaults to the current sys.stdout.\n",
      "    flush\n",
      "      whether to forcibly flush the stream.\n",
      "\n"
     ]
    }
   ],
   "source": [
    "help(print)"
   ]
  },
  {
   "cell_type": "code",
   "execution_count": 18,
   "metadata": {},
   "outputs": [
    {
     "name": "stdout",
     "output_type": "stream",
     "text": [
      "Orkun\n",
      "Sedat\n",
      "Aytaç\n"
     ]
    }
   ],
   "source": [
    "print(\"Orkun\")\n",
    "print(\"Sedat\")\n",
    "print(\"Aytaç\")"
   ]
  },
  {
   "cell_type": "code",
   "execution_count": 19,
   "metadata": {},
   "outputs": [
    {
     "name": "stdout",
     "output_type": "stream",
     "text": [
      "Orkun**Sedat\n",
      "Aytaç\n"
     ]
    }
   ],
   "source": [
    "print(\"Orkun\", end= \"**\")\n",
    "print(\"Sedat\")\n",
    "print(\"Aytaç\")"
   ]
  },
  {
   "cell_type": "code",
   "execution_count": 20,
   "metadata": {},
   "outputs": [
    {
     "name": "stdout",
     "output_type": "stream",
     "text": [
      "Betül!!Mustafa\n"
     ]
    }
   ],
   "source": [
    "print(\"Betül\", end= \"!!\")\n",
    "print(\"Mustafa\")"
   ]
  },
  {
   "cell_type": "code",
   "execution_count": 22,
   "metadata": {},
   "outputs": [
    {
     "name": "stdout",
     "output_type": "stream",
     "text": [
      "Betül!!ahmet..Mehmet//Ali\n"
     ]
    }
   ],
   "source": [
    "print(\"Betül\", end= \"!!\")\n",
    "print(\"ahmet\", end= \"..\")\n",
    "print(\"Mehmet\", \"Ali\", sep= \"//\")\n",
    "#her zaman altalta yazmak istemeyebilirsin. bu şekilde yanyana yazar"
   ]
  },
  {
   "cell_type": "code",
   "execution_count": 26,
   "metadata": {},
   "outputs": [
    {
     "name": "stdout",
     "output_type": "stream",
     "text": [
      "Elma\n",
      "Armut\n",
      "Portakal\n"
     ]
    }
   ],
   "source": [
    "print(\"Elma\", \"Armut\", \"Portakal\", sep= \"\\n\")"
   ]
  },
  {
   "cell_type": "code",
   "execution_count": 27,
   "metadata": {},
   "outputs": [
    {
     "name": "stdout",
     "output_type": "stream",
     "text": [
      "Hello World--35++40++70\n",
      "son satır\n"
     ]
    }
   ],
   "source": [
    "print(\"Hello World\", end= \"--\")\n",
    "print(\"35\", 40, \"70\", sep= \"++\")\n",
    "print(\"son satır\")"
   ]
  },
  {
   "cell_type": "markdown",
   "metadata": {},
   "source": [
    "## Input ()"
   ]
  },
  {
   "cell_type": "code",
   "execution_count": 29,
   "metadata": {},
   "outputs": [
    {
     "data": {
      "text/plain": [
       "'25'"
      ]
     },
     "execution_count": 29,
     "metadata": {},
     "output_type": "execute_result"
    }
   ],
   "source": [
    "input()   # input ile alınan tüm veriler str dir"
   ]
  },
  {
   "cell_type": "code",
   "execution_count": 31,
   "metadata": {},
   "outputs": [],
   "source": [
    "age = input(\"Lütfen yaşınızı giriniz\")"
   ]
  },
  {
   "cell_type": "code",
   "execution_count": 32,
   "metadata": {},
   "outputs": [
    {
     "name": "stdout",
     "output_type": "stream",
     "text": [
      "25\n"
     ]
    }
   ],
   "source": [
    "print(age)"
   ]
  },
  {
   "cell_type": "code",
   "execution_count": 33,
   "metadata": {},
   "outputs": [
    {
     "data": {
      "text/plain": [
       "str"
      ]
     },
     "execution_count": 33,
     "metadata": {},
     "output_type": "execute_result"
    }
   ],
   "source": [
    "type(age)"
   ]
  },
  {
   "cell_type": "code",
   "execution_count": 34,
   "metadata": {},
   "outputs": [],
   "source": [
    "age= int(age)"
   ]
  },
  {
   "cell_type": "code",
   "execution_count": 35,
   "metadata": {},
   "outputs": [
    {
     "data": {
      "text/plain": [
       "int"
      ]
     },
     "execution_count": 35,
     "metadata": {},
     "output_type": "execute_result"
    }
   ],
   "source": [
    "type(age)"
   ]
  },
  {
   "cell_type": "code",
   "execution_count": 37,
   "metadata": {},
   "outputs": [
    {
     "data": {
      "text/plain": [
       "1999"
      ]
     },
     "execution_count": 37,
     "metadata": {},
     "output_type": "execute_result"
    }
   ],
   "source": [
    "2024 - int(age)    # kullan at"
   ]
  },
  {
   "cell_type": "code",
   "execution_count": 38,
   "metadata": {},
   "outputs": [],
   "source": [
    "age_1= int(input(\"Lütfen yaşınızı giriniz\"))"
   ]
  },
  {
   "cell_type": "code",
   "execution_count": 39,
   "metadata": {},
   "outputs": [
    {
     "data": {
      "text/plain": [
       "int"
      ]
     },
     "execution_count": 39,
     "metadata": {},
     "output_type": "execute_result"
    }
   ],
   "source": [
    "type(age)"
   ]
  },
  {
   "cell_type": "code",
   "execution_count": 41,
   "metadata": {},
   "outputs": [],
   "source": [
    "age_2= int(input(\"Lütfen yaşınızı giriniz\"))  # int olarak girdiğiniz veri  \n",
    "   # int ye benzemeli"
   ]
  },
  {
   "cell_type": "code",
   "execution_count": 42,
   "metadata": {},
   "outputs": [
    {
     "name": "stdout",
     "output_type": "stream",
     "text": [
      "Doğum yılınız: 1999 olarak bulunmuştur\n"
     ]
    }
   ],
   "source": [
    "yaş= int(input(\"Lütfen yaşınızı giriniz\"))\n",
    "dogum_yılı= 2024 - yaş\n",
    "print(\"Doğum yılınız:\", dogum_yılı, \"olarak bulunmuştur\")"
   ]
  },
  {
   "cell_type": "code",
   "execution_count": 44,
   "metadata": {},
   "outputs": [
    {
     "name": "stdout",
     "output_type": "stream",
     "text": [
      "Girdiğiniz boy ve vücut ölçülerinizin kitle endeksi: 24.228395061728392 dir\n"
     ]
    }
   ],
   "source": [
    "kilo= float(input(\"Kilonuzu kg cinsinden giriniz\"))\n",
    "boy= int(input(\"Boyunuzu cm cinsinden giriniz\"))\n",
    "vücut_kitle_indeksi= vki= (kilo / (boy / 100) ** 2)\n",
    "print(\"Girdiğiniz boy ve vücut ölçülerinizin kitle endeksi:\", vki, \"dir\")"
   ]
  },
  {
   "cell_type": "markdown",
   "metadata": {},
   "source": [
    "# Escape Squences"
   ]
  },
  {
   "cell_type": "code",
   "execution_count": 45,
   "metadata": {},
   "outputs": [
    {
     "ename": "SyntaxError",
     "evalue": "unterminated string literal (detected at line 1) (2823495830.py, line 1)",
     "output_type": "error",
     "traceback": [
      "\u001b[1;36m  Cell \u001b[1;32mIn[45], line 1\u001b[1;36m\u001b[0m\n\u001b[1;33m    print('I'm a teacher')\u001b[0m\n\u001b[1;37m                        ^\u001b[0m\n\u001b[1;31mSyntaxError\u001b[0m\u001b[1;31m:\u001b[0m unterminated string literal (detected at line 1)\n"
     ]
    }
   ],
   "source": [
    "print('I'm a teacher')"
   ]
  },
  {
   "cell_type": "code",
   "execution_count": 47,
   "metadata": {},
   "outputs": [
    {
     "name": "stdout",
     "output_type": "stream",
     "text": [
      "I'm a teacher\n"
     ]
    }
   ],
   "source": [
    "print('I\\'m a teacher' )  # \\ --> backslash dan sonraki hareketi gör ama kaale alma"
   ]
  },
  {
   "cell_type": "code",
   "execution_count": 48,
   "metadata": {},
   "outputs": [
    {
     "name": "stdout",
     "output_type": "stream",
     "text": [
      "Bu ders çok uzadı sanki. Artık bitse mi acaba\n"
     ]
    }
   ],
   "source": [
    "print(\"Bu ders çok uzadı sanki. Artık bitse mi acaba\")"
   ]
  },
  {
   "cell_type": "code",
   "execution_count": 50,
   "metadata": {},
   "outputs": [
    {
     "name": "stdout",
     "output_type": "stream",
     "text": [
      "Bu ders çok uzadı sanki. \n",
      "Artık bitse mi acaba.\n"
     ]
    }
   ],
   "source": [
    "print(\"Bu ders çok uzadı sanki. \\nArtık bitse mi acaba.\")"
   ]
  },
  {
   "cell_type": "code",
   "execution_count": 51,
   "metadata": {},
   "outputs": [
    {
     "name": "stdout",
     "output_type": "stream",
     "text": [
      "Ayşe\n",
      "Ahmet\n",
      "Mehmet\n"
     ]
    }
   ],
   "source": [
    "print(\"Ayşe\", \"Ahmet\", \"Mehmet\", sep= \"\\n\")"
   ]
  },
  {
   "cell_type": "code",
   "execution_count": 53,
   "metadata": {},
   "outputs": [
    {
     "name": "stdout",
     "output_type": "stream",
     "text": [
      "Ayşe\tAhmet\tMehmet\n"
     ]
    }
   ],
   "source": [
    "print(\"Ayşe\", \"Ahmet\", \"Mehmet\", sep= \"\\t\")"
   ]
  },
  {
   "cell_type": "code",
   "execution_count": 55,
   "metadata": {},
   "outputs": [
    {
     "name": "stdout",
     "output_type": "stream",
     "text": [
      "Bu ders çok uzadı sanki.Artık bitse mi acaba.\n"
     ]
    }
   ],
   "source": [
    "print(\"Bu ders çok uzadı sanki. \\bArtık bitse mi acaba.\")"
   ]
  },
  {
   "cell_type": "code",
   "execution_count": 59,
   "metadata": {},
   "outputs": [
    {
     "name": "stdout",
     "output_type": "stream",
     "text": [
      "AyşMehtaAslı\n"
     ]
    }
   ],
   "source": [
    "print(\"Ayşe\", \"Mehtap\", \"Aslı\", sep= \"\\b\")"
   ]
  },
  {
   "cell_type": "code",
   "execution_count": 64,
   "metadata": {},
   "outputs": [
    {
     "name": "stdout",
     "output_type": "stream",
     "text": [
      "Biz de geri vites \\nolmaz\n"
     ]
    }
   ],
   "source": [
    "print(r\"Biz de geri vites \\nolmaz\")  # string öncesi konulan r escape squencesları \n",
    "# etkisiz hale getirir"
   ]
  },
  {
   "cell_type": "code",
   "execution_count": 63,
   "metadata": {},
   "outputs": [
    {
     "name": "stdout",
     "output_type": "stream",
     "text": [
      "Biz de geri vites \n",
      "olmaz\n"
     ]
    }
   ],
   "source": [
    "print(\"Biz de geri vites \\nolmaz\")"
   ]
  },
  {
   "cell_type": "code",
   "execution_count": 66,
   "metadata": {},
   "outputs": [
    {
     "name": "stdout",
     "output_type": "stream",
     "text": [
      "Girilen celcius değeri: 89 fahreinheit olarak bulunmuştur\n"
     ]
    }
   ],
   "source": [
    "celcius = c = float(input(\"Lütfen celcius bilgisini giriniz\"))\n",
    "fahrenheit = f = c * 1.8 + 32\n",
    "print(\"Girilen celcius değeri:\", int(f), \"fahreinheit olarak bulunmuştur\")"
   ]
  },
  {
   "cell_type": "markdown",
   "metadata": {},
   "source": [
    "# Practice"
   ]
  },
  {
   "cell_type": "code",
   "execution_count": 3,
   "metadata": {},
   "outputs": [
    {
     "data": {
      "text/plain": [
       "False"
      ]
     },
     "execution_count": 3,
     "metadata": {},
     "output_type": "execute_result"
    }
   ],
   "source": [
    "sayı_1 = int(input(\"İlk sayıyı giriniz\"))\n",
    "sayı_2 = int(input(\"İkinci sayıyı giriniz\"))\n",
    "sayı_1 + sayı_2 > 100 or sayı_1 % 2 == 1 and sayı_2 % 2 == 1\n"
   ]
  },
  {
   "cell_type": "code",
   "execution_count": 8,
   "metadata": {},
   "outputs": [
    {
     "data": {
      "text/plain": [
       "False"
      ]
     },
     "execution_count": 8,
     "metadata": {},
     "output_type": "execute_result"
    }
   ],
   "source": [
    "sayı = int(input(\"Lütfen bir sayı giriniz\"))\n",
    "sayı > 0 and sayı % 2 == 0"
   ]
  },
  {
   "cell_type": "code",
   "execution_count": 10,
   "metadata": {},
   "outputs": [
    {
     "name": "stdout",
     "output_type": "stream",
     "text": [
      "Girilen gün: 4 yıl 11 ay 10 gündür\n"
     ]
    }
   ],
   "source": [
    "gün = int(input(\"Lütfen gün sayısını giriniz\"))\n",
    "yıl = gün // 365\n",
    "gün = gün % 365\n",
    "ay = gün // 30\n",
    "gün = gün % 30\n",
    "print(\"Girilen gün:\", yıl, \"yıl\", ay, \"ay\", gün, \"gündür\") \n"
   ]
  },
  {
   "cell_type": "code",
   "execution_count": null,
   "metadata": {},
   "outputs": [],
   "source": []
  }
 ],
 "metadata": {
  "kernelspec": {
   "display_name": "base",
   "language": "python",
   "name": "python3"
  },
  "language_info": {
   "codemirror_mode": {
    "name": "ipython",
    "version": 3
   },
   "file_extension": ".py",
   "mimetype": "text/x-python",
   "name": "python",
   "nbconvert_exporter": "python",
   "pygments_lexer": "ipython3",
   "version": "3.11.5"
  }
 },
 "nbformat": 4,
 "nbformat_minor": 2
}
