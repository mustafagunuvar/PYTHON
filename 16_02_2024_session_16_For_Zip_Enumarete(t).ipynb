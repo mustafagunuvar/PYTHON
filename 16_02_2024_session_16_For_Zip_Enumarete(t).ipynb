{
 "cells": [
  {
   "cell_type": "code",
   "execution_count": 11,
   "metadata": {},
   "outputs": [
    {
     "name": "stdout",
     "output_type": "stream",
     "text": [
      "T-e-c-h-p-r-o\n"
     ]
    }
   ],
   "source": [
    "for i in \"Techpro\"[:-1]:\n",
    "    print(i + \"-\", end= \"\")\n",
    "print(\"Techpro\"[-1])"
   ]
  },
  {
   "cell_type": "code",
   "execution_count": 1,
   "metadata": {},
   "outputs": [
    {
     "data": {
      "text/plain": [
       "'Techpr'"
      ]
     },
     "execution_count": 1,
     "metadata": {},
     "output_type": "execute_result"
    }
   ],
   "source": [
    "\"Techpro\"[:-1]"
   ]
  },
  {
   "cell_type": "code",
   "execution_count": null,
   "metadata": {},
   "outputs": [],
   "source": []
  },
  {
   "cell_type": "code",
   "execution_count": 12,
   "metadata": {},
   "outputs": [
    {
     "name": "stdout",
     "output_type": "stream",
     "text": [
      "i love you \n",
      "i love you \n",
      "i love you \n"
     ]
    }
   ],
   "source": [
    "times = int(input(\"How many times should i say 'i love you' \"))\n",
    "\n",
    "for i in range(times):\n",
    "  print('i love you ')"
   ]
  },
  {
   "cell_type": "code",
   "execution_count": 3,
   "metadata": {},
   "outputs": [
    {
     "name": "stdout",
     "output_type": "stream",
     "text": [
      "9 sayısının çarpım tablosu:\n",
      "9 x 1  : 9\n",
      "9 x 2  : 18\n",
      "9 x 3  : 27\n",
      "9 x 4  : 36\n",
      "9 x 5  : 45\n",
      "9 x 6  : 54\n",
      "9 x 7  : 63\n",
      "9 x 8  : 72\n",
      "9 x 9  : 81\n",
      "9 x 10 : 90\n"
     ]
    }
   ],
   "source": [
    "import time\n",
    "\n",
    "sayac = 0\n",
    "\n",
    "while True:\n",
    "\n",
    "    time .sleep(1)\n",
    "\n",
    "    sayı = int(input(\"Lütfen 1 ile 9 arasında bir sayı giriniz\"))\n",
    "\n",
    "    sayac += 1\n",
    "    \n",
    "    if sayı < 1 or sayı > 9:\n",
    "\n",
    "        print(\"Yanlış aralıkta bir sayı girdiniz. Lütfen tekrar deneyiniz\")\n",
    "        if sayac == 3:\n",
    "            print(\"3 hakkınız dolmuştur\")\n",
    "            break\n",
    "        \n",
    "    else:\n",
    "         print(f\"{sayı} sayısının çarpım tablosu:\")\n",
    "         for i in range(1, 11):\n",
    "           \n",
    "            print(f\"{sayı} x {i:<3}:\", sayı * i)\n",
    "         break\n",
    "    "
   ]
  },
  {
   "cell_type": "code",
   "execution_count": 20,
   "metadata": {},
   "outputs": [
    {
     "name": "stdout",
     "output_type": "stream",
     "text": [
      "1275\n"
     ]
    }
   ],
   "source": [
    "toplam = 0\n",
    "\n",
    "for i in range(1, 51):\n",
    "    toplam += i\n",
    "\n",
    "print(toplam)"
   ]
  },
  {
   "cell_type": "code",
   "execution_count": 21,
   "metadata": {},
   "outputs": [
    {
     "data": {
      "text/plain": [
       "1275"
      ]
     },
     "execution_count": 21,
     "metadata": {},
     "output_type": "execute_result"
    }
   ],
   "source": [
    "sum(range(1,51))"
   ]
  },
  {
   "cell_type": "code",
   "execution_count": 22,
   "metadata": {},
   "outputs": [
    {
     "data": {
      "text/plain": [
       "15"
      ]
     },
     "execution_count": 22,
     "metadata": {},
     "output_type": "execute_result"
    }
   ],
   "source": [
    "sum([1, 2, 3, 4, 5])"
   ]
  },
  {
   "cell_type": "code",
   "execution_count": 23,
   "metadata": {},
   "outputs": [
    {
     "data": {
      "text/plain": [
       "15"
      ]
     },
     "execution_count": 23,
     "metadata": {},
     "output_type": "execute_result"
    }
   ],
   "source": [
    "sum((1, 2, 3, 4, 5))"
   ]
  },
  {
   "cell_type": "code",
   "execution_count": 24,
   "metadata": {},
   "outputs": [
    {
     "data": {
      "text/plain": [
       "15"
      ]
     },
     "execution_count": 24,
     "metadata": {},
     "output_type": "execute_result"
    }
   ],
   "source": [
    "sum({1, 2, 3, 4, 5})"
   ]
  },
  {
   "cell_type": "code",
   "execution_count": 25,
   "metadata": {},
   "outputs": [
    {
     "data": {
      "text/plain": [
       "15.5"
      ]
     },
     "execution_count": 25,
     "metadata": {},
     "output_type": "execute_result"
    }
   ],
   "source": [
    "sum([True, 2, 3.5, 4, 5])"
   ]
  },
  {
   "cell_type": "code",
   "execution_count": 6,
   "metadata": {},
   "outputs": [
    {
     "data": {
      "text/plain": [
       "515.5"
      ]
     },
     "execution_count": 6,
     "metadata": {},
     "output_type": "execute_result"
    }
   ],
   "source": [
    "sum([True, 2, 3.5, 4, 5], 500)# default degeri 100 yaptık. Onun üzerine topladı..."
   ]
  },
  {
   "cell_type": "code",
   "execution_count": 28,
   "metadata": {},
   "outputs": [
    {
     "name": "stdout",
     "output_type": "stream",
     "text": [
      "650\n"
     ]
    }
   ],
   "source": [
    "toplam = 0 \n",
    "\n",
    "for i in range(2, 51, 2):\n",
    "    toplam += i\n",
    "\n",
    "print(toplam)"
   ]
  },
  {
   "cell_type": "code",
   "execution_count": 29,
   "metadata": {},
   "outputs": [
    {
     "data": {
      "text/plain": [
       "650"
      ]
     },
     "execution_count": 29,
     "metadata": {},
     "output_type": "execute_result"
    }
   ],
   "source": [
    "sum(range(2, 51, 2))"
   ]
  },
  {
   "cell_type": "code",
   "execution_count": 30,
   "metadata": {},
   "outputs": [
    {
     "name": "stdout",
     "output_type": "stream",
     "text": [
      "650\n"
     ]
    }
   ],
   "source": [
    "toplam = 0 \n",
    "\n",
    "for i in range(2, 51):\n",
    "    if i % 2: \n",
    "        continue\n",
    "    else:\n",
    "        toplam += i\n",
    "print(toplam)"
   ]
  },
  {
   "cell_type": "markdown",
   "metadata": {},
   "source": [
    "# break continue"
   ]
  },
  {
   "cell_type": "code",
   "execution_count": 31,
   "metadata": {},
   "outputs": [
    {
     "data": {
      "text/plain": [
       "[1, 2, 3, 4, 5]"
      ]
     },
     "execution_count": 31,
     "metadata": {},
     "output_type": "execute_result"
    }
   ],
   "source": [
    "liste_1 = [1, 2, 3, 4, 5]\n",
    "liste_1"
   ]
  },
  {
   "cell_type": "code",
   "execution_count": 34,
   "metadata": {},
   "outputs": [
    {
     "name": "stdout",
     "output_type": "stream",
     "text": [
      "1\n",
      "4\n"
     ]
    }
   ],
   "source": [
    "for i in liste_1:\n",
    "    if i % 3 == 0:\n",
    "        break\n",
    "    else:\n",
    "        print(i ** 2)\n"
   ]
  },
  {
   "cell_type": "code",
   "execution_count": 35,
   "metadata": {},
   "outputs": [
    {
     "name": "stdout",
     "output_type": "stream",
     "text": [
      "1\n",
      "4\n",
      "16\n",
      "25\n"
     ]
    }
   ],
   "source": [
    "for i in liste_1:\n",
    "    if i % 3 == 0:\n",
    "        continue\n",
    "    else:\n",
    "        print(i ** 2)"
   ]
  },
  {
   "cell_type": "markdown",
   "metadata": {},
   "source": [
    "# zip()"
   ]
  },
  {
   "cell_type": "code",
   "execution_count": 36,
   "metadata": {},
   "outputs": [],
   "source": [
    "# Çalıştıkları iterable olmak zorunda"
   ]
  },
  {
   "cell_type": "code",
   "execution_count": 37,
   "metadata": {},
   "outputs": [],
   "source": [
    "a = [\"apple\", \"orange\", \"lemon\"]\n",
    "b = [1, 2, 3]"
   ]
  },
  {
   "cell_type": "code",
   "execution_count": 38,
   "metadata": {},
   "outputs": [
    {
     "data": {
      "text/plain": [
       "<zip at 0x1c86cf7a240>"
      ]
     },
     "execution_count": 38,
     "metadata": {},
     "output_type": "execute_result"
    }
   ],
   "source": [
    "zip(a, b)"
   ]
  },
  {
   "cell_type": "code",
   "execution_count": 40,
   "metadata": {},
   "outputs": [
    {
     "data": {
      "text/plain": [
       "[('apple', 1), ('orange', 2), ('lemon', 3)]"
      ]
     },
     "execution_count": 40,
     "metadata": {},
     "output_type": "execute_result"
    }
   ],
   "source": [
    "list(zip(a, b))"
   ]
  },
  {
   "cell_type": "code",
   "execution_count": 42,
   "metadata": {},
   "outputs": [
    {
     "data": {
      "text/plain": [
       "[(1, 'apple'), (2, 'orange'), (3, 'lemon')]"
      ]
     },
     "execution_count": 42,
     "metadata": {},
     "output_type": "execute_result"
    }
   ],
   "source": [
    "list(zip(b, a))"
   ]
  },
  {
   "cell_type": "code",
   "execution_count": 43,
   "metadata": {},
   "outputs": [
    {
     "data": {
      "text/plain": [
       "{1: 'apple', 2: 'orange', 3: 'lemon'}"
      ]
     },
     "execution_count": 43,
     "metadata": {},
     "output_type": "execute_result"
    }
   ],
   "source": [
    "dict(zip(b, a))"
   ]
  },
  {
   "cell_type": "code",
   "execution_count": 44,
   "metadata": {},
   "outputs": [],
   "source": [
    "x = \"Techpro\"\n",
    "y = \"Cihan\"\n",
    "z = \"Ayşe\""
   ]
  },
  {
   "cell_type": "code",
   "execution_count": 48,
   "metadata": {},
   "outputs": [
    {
     "data": {
      "text/plain": [
       "[('T', 'C', 'A'), ('e', 'i', 'y'), ('c', 'h', 'ş'), ('h', 'a', 'e')]"
      ]
     },
     "execution_count": 48,
     "metadata": {},
     "output_type": "execute_result"
    }
   ],
   "source": [
    "list(zip(x, y, z))   # len i en küçük olana göre işlem yapar"
   ]
  },
  {
   "cell_type": "code",
   "execution_count": 49,
   "metadata": {},
   "outputs": [],
   "source": [
    "meyveler = [\"apple\", \"orange\", \"apple\"]\n",
    "adet = [1, 2, 3]"
   ]
  },
  {
   "cell_type": "code",
   "execution_count": 50,
   "metadata": {},
   "outputs": [
    {
     "data": {
      "text/plain": [
       "[('apple', 1), ('orenge', 2), ('apple', 3)]"
      ]
     },
     "execution_count": 50,
     "metadata": {},
     "output_type": "execute_result"
    }
   ],
   "source": [
    "list(zip(meyveler, adet))"
   ]
  },
  {
   "cell_type": "code",
   "execution_count": 52,
   "metadata": {},
   "outputs": [
    {
     "data": {
      "text/plain": [
       "{'apple': 3, 'orenge': 2}"
      ]
     },
     "execution_count": 52,
     "metadata": {},
     "output_type": "execute_result"
    }
   ],
   "source": [
    "dict(zip(meyveler, adet)) # bizim tanıdığımız python 1 den fazla aynı key olduğu için update olarak düşünüp\n",
    "                          # son apple ı kabul etti, key olarak..."
   ]
  },
  {
   "cell_type": "code",
   "execution_count": 55,
   "metadata": {},
   "outputs": [
    {
     "data": {
      "text/plain": [
       "{1: 'apple', 2: 'orenge', 3: 'apple'}"
      ]
     },
     "execution_count": 55,
     "metadata": {},
     "output_type": "execute_result"
    }
   ],
   "source": [
    "dict(zip(adet, meyveler))   # burada 1 den fazla aynı value olabilir. Sorun yok...."
   ]
  },
  {
   "cell_type": "code",
   "execution_count": 8,
   "metadata": {},
   "outputs": [],
   "source": [
    "name = [\"irem\", \"betül\", \"Tülay\"]\n",
    "age = [25, 26, 27]\n",
    "job = [\"data_scientist\", \"python_developer\", \"data_analyst\"]"
   ]
  },
  {
   "cell_type": "code",
   "execution_count": 9,
   "metadata": {},
   "outputs": [],
   "source": [
    "liste_2 = list(zip(name, age, job))"
   ]
  },
  {
   "cell_type": "code",
   "execution_count": 63,
   "metadata": {},
   "outputs": [
    {
     "data": {
      "text/plain": [
       "[('irem', 25, 'data_scientist'),\n",
       " ('betül', 26, 'python_developer'),\n",
       " ('Tülay', 27, 'data_analyst')]"
      ]
     },
     "execution_count": 63,
     "metadata": {},
     "output_type": "execute_result"
    }
   ],
   "source": [
    "liste_2"
   ]
  },
  {
   "cell_type": "code",
   "execution_count": 10,
   "metadata": {},
   "outputs": [
    {
     "name": "stdout",
     "output_type": "stream",
     "text": [
      "('irem', 25, 'data_scientist')\n",
      "('betül', 26, 'python_developer')\n",
      "('Tülay', 27, 'data_analyst')\n"
     ]
    }
   ],
   "source": [
    "\n",
    "for item in liste_2:\n",
    "    print(item)\n",
    "    \n"
   ]
  },
  {
   "cell_type": "code",
   "execution_count": 64,
   "metadata": {},
   "outputs": [
    {
     "data": {
      "text/plain": [
       "[('irem', 25, 'data_scientist'),\n",
       " ('betül', 26, 'python_developer'),\n",
       " ('Tülay', 27, 'data_analyst')]"
      ]
     },
     "execution_count": 64,
     "metadata": {},
     "output_type": "execute_result"
    }
   ],
   "source": [
    "list(zip(name, age, job))"
   ]
  },
  {
   "cell_type": "code",
   "execution_count": 70,
   "metadata": {},
   "outputs": [
    {
     "name": "stdout",
     "output_type": "stream",
     "text": [
      "name: irem  , age: 25 , job: data_scientist\n",
      "name: betül , age: 26 , job: python_developer\n",
      "name: Tülay , age: 27 , job: data_analyst\n"
     ]
    }
   ],
   "source": [
    "for i, j, k in list(zip(name, age, job)):\n",
    "    print(f\"name: {i:<6}, age: {j:<3}, job: {k}\")"
   ]
  },
  {
   "cell_type": "code",
   "execution_count": 13,
   "metadata": {},
   "outputs": [
    {
     "ename": "ValueError",
     "evalue": "too many values to unpack (expected 2)",
     "output_type": "error",
     "traceback": [
      "\u001b[1;31m---------------------------------------------------------------------------\u001b[0m",
      "\u001b[1;31mValueError\u001b[0m                                Traceback (most recent call last)",
      "Cell \u001b[1;32mIn[13], line 1\u001b[0m\n\u001b[1;32m----> 1\u001b[0m \u001b[38;5;28;01mfor\u001b[39;00m i, j \u001b[38;5;129;01min\u001b[39;00m \u001b[38;5;28mlist\u001b[39m(\u001b[38;5;28mzip\u001b[39m(name, age, job)):   \u001b[38;5;66;03m# burada hata alırız. Komple tuple kabul eder. Yada paketi parcalayınca 2 tane\u001b[39;00m\n\u001b[0;32m      2\u001b[0m                                          \u001b[38;5;66;03m# beklerken daha fazlası var... too many values to unpack\u001b[39;00m\n\u001b[0;32m      3\u001b[0m     \u001b[38;5;28mprint\u001b[39m(\u001b[38;5;124mf\u001b[39m\u001b[38;5;124m\"\u001b[39m\u001b[38;5;124mname: \u001b[39m\u001b[38;5;132;01m{\u001b[39;00mi\u001b[38;5;132;01m}\u001b[39;00m\u001b[38;5;124m, age: \u001b[39m\u001b[38;5;132;01m{\u001b[39;00mj\u001b[38;5;132;01m}\u001b[39;00m\u001b[38;5;124m\"\u001b[39m)\n",
      "\u001b[1;31mValueError\u001b[0m: too many values to unpack (expected 2)"
     ]
    }
   ],
   "source": [
    "for i, j in list(zip(name, age, job)):   # burada hata alırız. Komple tuple kabul eder. Yada paketi parcalayınca 2 tane\n",
    "                                         # beklerken daha fazlası var... too many values to unpack\n",
    "    print(f\"name: {i}, age: {j}\")"
   ]
  },
  {
   "cell_type": "code",
   "execution_count": 12,
   "metadata": {},
   "outputs": [
    {
     "data": {
      "text/plain": [
       "'data_analyst'"
      ]
     },
     "execution_count": 12,
     "metadata": {},
     "output_type": "execute_result"
    }
   ],
   "source": [
    "k"
   ]
  },
  {
   "cell_type": "code",
   "execution_count": 77,
   "metadata": {},
   "outputs": [
    {
     "name": "stdout",
     "output_type": "stream",
     "text": [
      "name: irem , age: 25\n",
      "name: betül, age: 26\n",
      "name: Tülay, age: 27\n"
     ]
    }
   ],
   "source": [
    "for i, j, k in list(zip(name, age, job)):  # burada hata vermez. paketi düzgün parcaladık. k yı atadık. ama kullanmadık...\n",
    "    print(f\"name: {i:<5}, age: {j:>2}\")"
   ]
  },
  {
   "cell_type": "code",
   "execution_count": 78,
   "metadata": {},
   "outputs": [],
   "source": [
    "meyveler = (\"apple\", \"orange\", \"apple\")\n",
    "adet = (1, 2, 3)"
   ]
  },
  {
   "cell_type": "code",
   "execution_count": 79,
   "metadata": {},
   "outputs": [
    {
     "data": {
      "text/plain": [
       "<zip at 0x1c86cfe62c0>"
      ]
     },
     "execution_count": 79,
     "metadata": {},
     "output_type": "execute_result"
    }
   ],
   "source": [
    "zip(a,b)"
   ]
  },
  {
   "cell_type": "code",
   "execution_count": 80,
   "metadata": {},
   "outputs": [
    {
     "data": {
      "text/plain": [
       "(('apple', 1), ('orange', 2), ('lemon', 3))"
      ]
     },
     "execution_count": 80,
     "metadata": {},
     "output_type": "execute_result"
    }
   ],
   "source": [
    "tuple(zip(a,b))"
   ]
  },
  {
   "cell_type": "code",
   "execution_count": 81,
   "metadata": {},
   "outputs": [
    {
     "ename": "TypeError",
     "evalue": "'int' object is not iterable",
     "output_type": "error",
     "traceback": [
      "\u001b[1;31m---------------------------------------------------------------------------\u001b[0m",
      "\u001b[1;31mTypeError\u001b[0m                                 Traceback (most recent call last)",
      "Cell \u001b[1;32mIn[81], line 6\u001b[0m\n\u001b[0;32m      3\u001b[0m z \u001b[38;5;241m=\u001b[39m \u001b[38;5;124m\"\u001b[39m\u001b[38;5;124mAyşe\u001b[39m\u001b[38;5;124m\"\u001b[39m\n\u001b[0;32m      4\u001b[0m w\u001b[38;5;241m=\u001b[39m \u001b[38;5;241m12345\u001b[39m\n\u001b[1;32m----> 6\u001b[0m \u001b[38;5;28;43mzip\u001b[39;49m\u001b[43m(\u001b[49m\u001b[43mx\u001b[49m\u001b[43m,\u001b[49m\u001b[43my\u001b[49m\u001b[43m,\u001b[49m\u001b[43mz\u001b[49m\u001b[43m,\u001b[49m\u001b[43mw\u001b[49m\u001b[43m)\u001b[49m  \u001b[38;5;66;03m# w iterable degil\u001b[39;00m\n",
      "\u001b[1;31mTypeError\u001b[0m: 'int' object is not iterable"
     ]
    }
   ],
   "source": [
    "x = \"Techpro\"\n",
    "y = \"Cihan\"\n",
    "z = \"Ayşe\"\n",
    "w= 12345\n",
    "\n",
    "zip(x,y,z,w)  # w iterable degil"
   ]
  },
  {
   "cell_type": "markdown",
   "metadata": {},
   "source": [
    "# enumarate"
   ]
  },
  {
   "cell_type": "code",
   "execution_count": 82,
   "metadata": {},
   "outputs": [
    {
     "data": {
      "text/plain": [
       "['irem', 'betül', 'Tülay']"
      ]
     },
     "execution_count": 82,
     "metadata": {},
     "output_type": "execute_result"
    }
   ],
   "source": [
    "name"
   ]
  },
  {
   "cell_type": "code",
   "execution_count": 83,
   "metadata": {},
   "outputs": [
    {
     "data": {
      "text/plain": [
       "<enumerate at 0x1c86cfc3470>"
      ]
     },
     "execution_count": 83,
     "metadata": {},
     "output_type": "execute_result"
    }
   ],
   "source": [
    "enumerate(name)  # numaralandırır"
   ]
  },
  {
   "cell_type": "code",
   "execution_count": 84,
   "metadata": {},
   "outputs": [
    {
     "data": {
      "text/plain": [
       "[(0, 'irem'), (1, 'betül'), (2, 'Tülay')]"
      ]
     },
     "execution_count": 84,
     "metadata": {},
     "output_type": "execute_result"
    }
   ],
   "source": [
    "list(enumerate(name))"
   ]
  },
  {
   "cell_type": "code",
   "execution_count": 86,
   "metadata": {},
   "outputs": [
    {
     "data": {
      "text/plain": [
       "[(100, 'irem'), (101, 'betül'), (102, 'Tülay')]"
      ]
     },
     "execution_count": 86,
     "metadata": {},
     "output_type": "execute_result"
    }
   ],
   "source": [
    "list(enumerate(name, 100))   # enumerate içerisine (name, 100) şeklinde yazmalıyız"
   ]
  },
  {
   "cell_type": "code",
   "execution_count": 87,
   "metadata": {},
   "outputs": [],
   "source": [
    "number_list = [48, 10, 11, 21, 36, 5, 6, 52, 28, 29,\n",
    "       53, 54, 45, 19, 20, 47, 55, 39, 41, 7,\n",
    "       9, 17, 26, 27, 42, 22, 37, 51, 46, 18,\n",
    "       44, 30, 34, 13, 15, 35, 33, 16, 50, 24]"
   ]
  },
  {
   "cell_type": "code",
   "execution_count": 89,
   "metadata": {},
   "outputs": [
    {
     "name": "stdout",
     "output_type": "stream",
     "text": [
      "[8, 12, 14, 23, 25, 31, 32, 38, 40, 43, 49]\n"
     ]
    }
   ],
   "source": [
    "kayıp_sayılar = []\n",
    "\n",
    "for i in range(min(number_list), max(number_list)):\n",
    "    if i in number_list:\n",
    "        continue\n",
    "    else:\n",
    "        kayıp_sayılar .append(i)\n",
    "print(kayıp_sayılar)"
   ]
  },
  {
   "cell_type": "code",
   "execution_count": 90,
   "metadata": {},
   "outputs": [
    {
     "name": "stdout",
     "output_type": "stream",
     "text": [
      "[8, 12, 14, 23, 25, 31, 32, 38, 40, 43, 49]\n"
     ]
    }
   ],
   "source": [
    "kayıp_sayılar = []\n",
    "\n",
    "for i in range(min(number_list), max(number_list)):\n",
    "    if i not in number_list:\n",
    "        kayıp_sayılar .append(i)\n",
    "\n",
    "print(kayıp_sayılar)"
   ]
  },
  {
   "cell_type": "code",
   "execution_count": 92,
   "metadata": {},
   "outputs": [
    {
     "name": "stdout",
     "output_type": "stream",
     "text": [
      "[48, 10, 11, 21, 36, 5, 6, 52, 28, 29, 53, 54, 45, 19, 20, 47, 55, 39, 41, 7, 9, 17, 26, 27, 42, 22, 37, 51, 46, 18, 44, 30, 34, 13, 15, 35, 33, 16, 50, 24]\n"
     ]
    }
   ],
   "source": [
    "print(number_list)"
   ]
  },
  {
   "cell_type": "code",
   "execution_count": 93,
   "metadata": {},
   "outputs": [],
   "source": [
    "set_1 = set(number_list)"
   ]
  },
  {
   "cell_type": "code",
   "execution_count": 94,
   "metadata": {},
   "outputs": [
    {
     "data": {
      "text/plain": [
       "55"
      ]
     },
     "execution_count": 94,
     "metadata": {},
     "output_type": "execute_result"
    }
   ],
   "source": [
    "max(number_list)"
   ]
  },
  {
   "cell_type": "code",
   "execution_count": 95,
   "metadata": {},
   "outputs": [
    {
     "data": {
      "text/plain": [
       "5"
      ]
     },
     "execution_count": 95,
     "metadata": {},
     "output_type": "execute_result"
    }
   ],
   "source": [
    "min(number_list)"
   ]
  },
  {
   "cell_type": "code",
   "execution_count": 96,
   "metadata": {},
   "outputs": [],
   "source": [
    "set_2 = set(range(5,55))"
   ]
  },
  {
   "cell_type": "code",
   "execution_count": 99,
   "metadata": {},
   "outputs": [
    {
     "name": "stdout",
     "output_type": "stream",
     "text": [
      "{5, 6, 7, 8, 9, 10, 11, 12, 13, 14, 15, 16, 17, 18, 19, 20, 21, 22, 23, 24, 25, 26, 27, 28, 29, 30, 31, 32, 33, 34, 35, 36, 37, 38, 39, 40, 41, 42, 43, 44, 45, 46, 47, 48, 49, 50, 51, 52, 53, 54}\n"
     ]
    }
   ],
   "source": [
    "print(set_2)"
   ]
  },
  {
   "cell_type": "code",
   "execution_count": 100,
   "metadata": {},
   "outputs": [
    {
     "data": {
      "text/plain": [
       "{8, 12, 14, 23, 25, 31, 32, 38, 40, 43, 49}"
      ]
     },
     "execution_count": 100,
     "metadata": {},
     "output_type": "execute_result"
    }
   ],
   "source": [
    "set_2 - set_1"
   ]
  },
  {
   "cell_type": "markdown",
   "metadata": {},
   "source": [
    "Ödeviniz:\n",
    "Bir markete gittiniz. Markette her ürünün bir kod numarası var.\n",
    "1 : Elma 2 : Portakal 3 : Çilek 4 : Yumurta 5 : Havuç 6 : Armut ... vs. şeklinde.\n",
    "Kullanıcıya almak istediği ürünü sorunuz ve kod numarası ile seçim yaptırınız. Çıkış için \"q\" opsiyonunu sununuz. Kullanıcının her ürün seçimi sonrası \" .... elma sepete eklendi\" gibi bir dönüt veriniz. Kullanıcı ürün almaya devam ettikçe ürünleri bir listede toplayınız, almaktan vazgeçtiği durumda teşekkür edip, aldığı toplam ürünleri çıktı veren bir kod yazınız.\n",
    "Çıktı:\n",
    "Teşekkür Ederiz...\n",
    "Sepetinizde Bulunan Ürünler: elma, armut, yumurta ... vs."
   ]
  },
  {
   "cell_type": "code",
   "execution_count": 115,
   "metadata": {},
   "outputs": [
    {
     "name": "stdout",
     "output_type": "stream",
     "text": [
      "Armut sepete eklendi.\n",
      "Havuç sepete eklendi.\n",
      "Portakal sepete eklendi.\n",
      "Teşekkür ederiz\n",
      "Sepetinizdeki ürünler: ['Armut', 'Havuç', 'Portakal']\n"
     ]
    }
   ],
   "source": [
    "import time\n",
    "\n",
    "ürünler = {1: 'Elma', 2: 'Portakal', 3: 'Çilek', 4: 'Yumurta', 5: 'Havuç', 6: 'Armut'}\n",
    "\n",
    "sepet = []\n",
    "\n",
    "while True:\n",
    "    time .sleep(1)\n",
    "    x = input(\"Lütfen istediğiniz ürün kodunu yazınız. Çıkmak için q tuşuna basınız\")\n",
    "    if x .lower() == \"q\":\n",
    "        print(\"Teşekkür ederiz\")\n",
    "        print(f\"Sepetinizdeki ürünler: {sepet}\")\n",
    "        break\n",
    "    else:\n",
    "        x = int(x)\n",
    "        sepet .append(ürünler[x])\n",
    "        print(f\"{ürünler[x]} sepete eklendi.\")\n",
    "\n",
    "\n"
   ]
  },
  {
   "cell_type": "code",
   "execution_count": null,
   "metadata": {},
   "outputs": [],
   "source": []
  },
  {
   "cell_type": "code",
   "execution_count": null,
   "metadata": {},
   "outputs": [],
   "source": []
  },
  {
   "cell_type": "code",
   "execution_count": null,
   "metadata": {},
   "outputs": [],
   "source": []
  }
 ],
 "metadata": {
  "kernelspec": {
   "display_name": "Python 3",
   "language": "python",
   "name": "python3"
  },
  "language_info": {
   "codemirror_mode": {
    "name": "ipython",
    "version": 3
   },
   "file_extension": ".py",
   "mimetype": "text/x-python",
   "name": "python",
   "nbconvert_exporter": "python",
   "pygments_lexer": "ipython3",
   "version": "3.12.2"
  }
 },
 "nbformat": 4,
 "nbformat_minor": 2
}
