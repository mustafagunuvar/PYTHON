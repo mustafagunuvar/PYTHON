{
 "cells": [
  {
   "cell_type": "code",
   "execution_count": 1,
   "metadata": {},
   "outputs": [],
   "source": [
    "liste = [2, 3, 5, 4, 1]"
   ]
  },
  {
   "cell_type": "code",
   "execution_count": 2,
   "metadata": {},
   "outputs": [],
   "source": [
    "liste .sort()"
   ]
  },
  {
   "cell_type": "code",
   "execution_count": 3,
   "metadata": {},
   "outputs": [
    {
     "data": {
      "text/plain": [
       "[1, 2, 3, 4, 5]"
      ]
     },
     "execution_count": 3,
     "metadata": {},
     "output_type": "execute_result"
    }
   ],
   "source": [
    "liste"
   ]
  },
  {
   "cell_type": "code",
   "execution_count": 4,
   "metadata": {},
   "outputs": [],
   "source": [
    "liste .sort(reverse=True)"
   ]
  },
  {
   "cell_type": "code",
   "execution_count": 5,
   "metadata": {},
   "outputs": [
    {
     "data": {
      "text/plain": [
       "[5, 4, 3, 2, 1]"
      ]
     },
     "execution_count": 5,
     "metadata": {},
     "output_type": "execute_result"
    }
   ],
   "source": [
    "liste"
   ]
  },
  {
   "cell_type": "code",
   "execution_count": 6,
   "metadata": {},
   "outputs": [],
   "source": [
    "liste .append(0)"
   ]
  },
  {
   "cell_type": "code",
   "execution_count": 7,
   "metadata": {},
   "outputs": [
    {
     "data": {
      "text/plain": [
       "[5, 4, 3, 2, 1, 0]"
      ]
     },
     "execution_count": 7,
     "metadata": {},
     "output_type": "execute_result"
    }
   ],
   "source": [
    "liste"
   ]
  },
  {
   "cell_type": "code",
   "execution_count": 8,
   "metadata": {},
   "outputs": [],
   "source": [
    "liste .sort()"
   ]
  },
  {
   "cell_type": "code",
   "execution_count": 9,
   "metadata": {},
   "outputs": [
    {
     "data": {
      "text/plain": [
       "[0, 1, 2, 3, 4, 5]"
      ]
     },
     "execution_count": 9,
     "metadata": {},
     "output_type": "execute_result"
    }
   ],
   "source": [
    "liste"
   ]
  },
  {
   "cell_type": "code",
   "execution_count": 10,
   "metadata": {},
   "outputs": [],
   "source": [
    "liste .append([6, 7])"
   ]
  },
  {
   "cell_type": "code",
   "execution_count": 12,
   "metadata": {},
   "outputs": [
    {
     "data": {
      "text/plain": [
       "[0, 1, 2, 3, 4, 5, [6, 7]]"
      ]
     },
     "execution_count": 12,
     "metadata": {},
     "output_type": "execute_result"
    }
   ],
   "source": [
    "liste"
   ]
  },
  {
   "cell_type": "code",
   "execution_count": 13,
   "metadata": {},
   "outputs": [
    {
     "data": {
      "text/plain": [
       "7"
      ]
     },
     "execution_count": 13,
     "metadata": {},
     "output_type": "execute_result"
    }
   ],
   "source": [
    "len(liste)"
   ]
  },
  {
   "cell_type": "code",
   "execution_count": 15,
   "metadata": {},
   "outputs": [],
   "source": [
    "liste .extend([8,9])"
   ]
  },
  {
   "cell_type": "code",
   "execution_count": 16,
   "metadata": {},
   "outputs": [
    {
     "data": {
      "text/plain": [
       "[0, 1, 2, 3, 4, 5, [6, 7], 8, 9]"
      ]
     },
     "execution_count": 16,
     "metadata": {},
     "output_type": "execute_result"
    }
   ],
   "source": [
    "liste"
   ]
  },
  {
   "cell_type": "code",
   "execution_count": 18,
   "metadata": {},
   "outputs": [
    {
     "data": {
      "text/plain": [
       "[4, 5, 6, 9, 85, 23, 65, 47, 32, 91]"
      ]
     },
     "execution_count": 18,
     "metadata": {},
     "output_type": "execute_result"
    }
   ],
   "source": [
    "liste_1 = [4, 5, 6, 9, 85, 23, 65, 47, 32, 91]\n",
    "liste_1"
   ]
  },
  {
   "cell_type": "code",
   "execution_count": 27,
   "metadata": {},
   "outputs": [
    {
     "name": "stdout",
     "output_type": "stream",
     "text": [
      "Listenin en büyük elemanı: 91\n",
      "Listenin en küçük elemanı: 4\n"
     ]
    }
   ],
   "source": [
    "x = 0\n",
    "\n",
    "min_eleman = liste_1[0]\n",
    "\n",
    "max_eleman = liste_1[0]\n",
    "\n",
    "while x < len(liste_1):\n",
    "    if max_eleman < liste_1[x]:\n",
    "        max_eleman = liste_1[x]\n",
    "    x += 1\n",
    "print(\"Listenin en büyük elemanı:\", max_eleman)\n",
    "\n",
    "while x < len(liste_1):\n",
    "    if min_eleman > liste_1[x]:\n",
    "        min_eleman = liste_1[x]\n",
    "    x += 1\n",
    "print(\"Listenin en küçük elemanı:\", min_eleman)"
   ]
  },
  {
   "cell_type": "markdown",
   "metadata": {},
   "source": [
    "# for"
   ]
  },
  {
   "cell_type": "code",
   "execution_count": 29,
   "metadata": {},
   "outputs": [
    {
     "name": "stdout",
     "output_type": "stream",
     "text": [
      "T\n",
      "e\n",
      "c\n",
      "h\n",
      "p\n",
      "r\n",
      "o\n"
     ]
    }
   ],
   "source": [
    "for i in \"Techpro\":\n",
    "    print(i)        # for döngüsü iterable lar ile calısır"
   ]
  },
  {
   "cell_type": "code",
   "execution_count": 30,
   "metadata": {},
   "outputs": [
    {
     "name": "stdout",
     "output_type": "stream",
     "text": [
      "T - TT\n",
      "e - ee\n",
      "c - cc\n",
      "h - hh\n",
      "p - pp\n",
      "r - rr\n",
      "o - oo\n"
     ]
    }
   ],
   "source": [
    "for i in \"Techpro\":\n",
    "    print(i, \"-\", i * 2)"
   ]
  },
  {
   "cell_type": "code",
   "execution_count": 31,
   "metadata": {},
   "outputs": [
    {
     "data": {
      "text/plain": [
       "'o'"
      ]
     },
     "execution_count": 31,
     "metadata": {},
     "output_type": "execute_result"
    }
   ],
   "source": [
    "i"
   ]
  },
  {
   "cell_type": "code",
   "execution_count": 45,
   "metadata": {},
   "outputs": [
    {
     "name": "stdout",
     "output_type": "stream",
     "text": [
      "1  nin karesi: 1\n",
      "2  nin karesi: 4\n",
      "3  nin karesi: 9\n",
      "4  nin karesi: 16\n",
      "5  nin karesi: 25\n"
     ]
    }
   ],
   "source": [
    "liste_2 = [1, 2, 3, 4, 5]\n",
    "\n",
    "for i in liste_2:\n",
    "    print(f\"{i:<2} nin karesi: {(i ** 2):<1}\" )"
   ]
  },
  {
   "cell_type": "code",
   "execution_count": 52,
   "metadata": {},
   "outputs": [
    {
     "name": "stdout",
     "output_type": "stream",
     "text": [
      "1 in karesi: 1\n",
      "2 in karesi: 4\n",
      "3 in karesi: 9\n",
      "4 in karesi: 16\n",
      "5 in karesi: 25\n"
     ]
    }
   ],
   "source": [
    "liste_2 = [1, 2, 3, 4, 5]\n",
    "\n",
    "x = 0\n",
    "\n",
    "while x < len(liste_2):\n",
    "    print(f\"{liste_2[x]:<1} in karesi: {(liste_2[x] ** 2)}\")\n",
    "    x += 1\n"
   ]
  },
  {
   "cell_type": "code",
   "execution_count": 57,
   "metadata": {},
   "outputs": [
    {
     "name": "stdout",
     "output_type": "stream",
     "text": [
      "1 nin karesi: 1 -- 2 nin karesi: 4 -- 3 nin karesi: 9 -- 4 nin karesi: 16 -- 5 nin karesi: 25 -- "
     ]
    }
   ],
   "source": [
    "liste_3 = (1, 2, 3, 4, 5)\n",
    "\n",
    "for i in liste_3:\n",
    "    print(f\"{i} nin karesi: {i ** 2}\", end= \" -- \")"
   ]
  },
  {
   "cell_type": "code",
   "execution_count": 58,
   "metadata": {},
   "outputs": [
    {
     "ename": "TypeError",
     "evalue": "'int' object is not iterable",
     "output_type": "error",
     "traceback": [
      "\u001b[1;31m---------------------------------------------------------------------------\u001b[0m",
      "\u001b[1;31mTypeError\u001b[0m                                 Traceback (most recent call last)",
      "Cell \u001b[1;32mIn[58], line 1\u001b[0m\n\u001b[1;32m----> 1\u001b[0m \u001b[38;5;28;43;01mfor\u001b[39;49;00m\u001b[43m \u001b[49m\u001b[43mi\u001b[49m\u001b[43m \u001b[49m\u001b[38;5;129;43;01min\u001b[39;49;00m\u001b[43m \u001b[49m\u001b[38;5;241;43m1543\u001b[39;49m\u001b[43m:\u001b[49m\u001b[43m \u001b[49m\u001b[38;5;66;43;03m# int lar iterable olmadığı için for döngüsü çalıştırmaz\u001b[39;49;00m\n\u001b[0;32m      2\u001b[0m \u001b[43m    \u001b[49m\u001b[38;5;28;43mprint\u001b[39;49m\u001b[43m(\u001b[49m\u001b[43mi\u001b[49m\u001b[43m)\u001b[49m\n",
      "\u001b[1;31mTypeError\u001b[0m: 'int' object is not iterable"
     ]
    }
   ],
   "source": [
    "for i in 1543: # int lar iterable olmadığı için for döngüsü çalıştırmaz\n",
    "    print(i)"
   ]
  },
  {
   "cell_type": "code",
   "execution_count": 59,
   "metadata": {},
   "outputs": [
    {
     "data": {
      "text/plain": [
       "True"
      ]
     },
     "execution_count": 59,
     "metadata": {},
     "output_type": "execute_result"
    }
   ],
   "source": [
    "\"e\" in \"hello\""
   ]
  },
  {
   "cell_type": "code",
   "execution_count": 60,
   "metadata": {},
   "outputs": [
    {
     "data": {
      "text/plain": [
       "False"
      ]
     },
     "execution_count": 60,
     "metadata": {},
     "output_type": "execute_result"
    }
   ],
   "source": [
    "\"a\" in \"hello\""
   ]
  },
  {
   "cell_type": "code",
   "execution_count": 62,
   "metadata": {},
   "outputs": [
    {
     "name": "stdout",
     "output_type": "stream",
     "text": [
      "Irem\n",
      "Cihan\n",
      "Bahar\n",
      "Metehan\n"
     ]
    }
   ],
   "source": [
    "isimler_listesi = [\"irem\", \"cihan\", \"bahar\", \"metehan\"]\n",
    "\n",
    "for i in isimler_listesi:\n",
    "    print(i. capitalize())"
   ]
  },
  {
   "cell_type": "code",
   "execution_count": 63,
   "metadata": {},
   "outputs": [
    {
     "name": "stdout",
     "output_type": "stream",
     "text": [
      "T-e-c-h-p-r-o-"
     ]
    }
   ],
   "source": [
    "for i in \"Techpro\":\n",
    "    print(i, end= \"-\")"
   ]
  },
  {
   "cell_type": "code",
   "execution_count": 77,
   "metadata": {},
   "outputs": [
    {
     "name": "stdout",
     "output_type": "stream",
     "text": [
      "T-e-c-h-p-r-o\n"
     ]
    }
   ],
   "source": [
    "empty_str = \"\"\n",
    "\n",
    "for i in \"Techpro\":\n",
    "    empty_str += i + \"-\"\n",
    "\n",
    "print(empty_str .rstrip(\"-\"))\n"
   ]
  },
  {
   "cell_type": "code",
   "execution_count": 78,
   "metadata": {},
   "outputs": [
    {
     "data": {
      "text/plain": [
       "{'name': 'dilek', 'age': 26, 'job': 'data scientist'}"
      ]
     },
     "execution_count": 78,
     "metadata": {},
     "output_type": "execute_result"
    }
   ],
   "source": [
    "dict_1 = {\"name\": \"dilek\", \"age\": 26, \"job\": \"data scientist\"}\n",
    "dict_1"
   ]
  },
  {
   "cell_type": "code",
   "execution_count": 79,
   "metadata": {},
   "outputs": [
    {
     "name": "stdout",
     "output_type": "stream",
     "text": [
      "name\n",
      "age\n",
      "job\n"
     ]
    }
   ],
   "source": [
    "for i in dict_1:\n",
    "    print(i)"
   ]
  },
  {
   "cell_type": "code",
   "execution_count": 80,
   "metadata": {},
   "outputs": [
    {
     "data": {
      "text/plain": [
       "dict_values(['dilek', 26, 'data scientist'])"
      ]
     },
     "execution_count": 80,
     "metadata": {},
     "output_type": "execute_result"
    }
   ],
   "source": [
    "dict_1 .values()"
   ]
  },
  {
   "cell_type": "code",
   "execution_count": 81,
   "metadata": {},
   "outputs": [
    {
     "name": "stdout",
     "output_type": "stream",
     "text": [
      "dilek\n",
      "26\n",
      "data scientist\n"
     ]
    }
   ],
   "source": [
    "for i in dict_1 .values():\n",
    "    print(i)"
   ]
  },
  {
   "cell_type": "code",
   "execution_count": 84,
   "metadata": {},
   "outputs": [
    {
     "data": {
      "text/plain": [
       "dict_items([('name', 'dilek'), ('age', 26), ('job', 'data scientist')])"
      ]
     },
     "execution_count": 84,
     "metadata": {},
     "output_type": "execute_result"
    }
   ],
   "source": [
    "dict_1 .items()"
   ]
  },
  {
   "cell_type": "code",
   "execution_count": 83,
   "metadata": {},
   "outputs": [
    {
     "name": "stdout",
     "output_type": "stream",
     "text": [
      "('name', 'dilek')\n",
      "('age', 26)\n",
      "('job', 'data scientist')\n"
     ]
    }
   ],
   "source": [
    "for i in dict_1 .items():\n",
    "    print(i)"
   ]
  },
  {
   "cell_type": "code",
   "execution_count": 87,
   "metadata": {},
   "outputs": [
    {
     "name": "stdout",
     "output_type": "stream",
     "text": [
      "name**dilek\n",
      "age**26\n",
      "job**data scientist\n"
     ]
    }
   ],
   "source": [
    "for i, j in dict_1 .items():\n",
    "    print(i, j, sep= \"**\")\n"
   ]
  },
  {
   "cell_type": "code",
   "execution_count": 117,
   "metadata": {},
   "outputs": [
    {
     "name": "stdout",
     "output_type": "stream",
     "text": [
      "key: name  , values: dilek\n",
      "key: age   , values: 26\n",
      "key: job   , values: data scientist\n"
     ]
    }
   ],
   "source": [
    "for i, j in dict_1 .items():               \n",
    "    print(f\"key: {i:<5} , values: {j}\")"
   ]
  },
  {
   "cell_type": "code",
   "execution_count": 98,
   "metadata": {},
   "outputs": [
    {
     "data": {
      "text/plain": [
       "{'name': 'dilek', 'surname': 'yılmaz', 'age': 26, 'job': 'data_scientist'}"
      ]
     },
     "execution_count": 98,
     "metadata": {},
     "output_type": "execute_result"
    }
   ],
   "source": [
    "dict_2 = {\"name\": \"dilek\", \"surname\": \"yılmaz\" ,\"age\": 26, \"job\": \"data_scientist\"}\n",
    "dict_2"
   ]
  },
  {
   "cell_type": "code",
   "execution_count": 128,
   "metadata": {},
   "outputs": [
    {
     "name": "stdout",
     "output_type": "stream",
     "text": [
      "key : name     , value : dilek\n",
      "key : surname  , value : yılmaz\n",
      "key : age      , value : 26\n",
      "key : job      , value : data_scientist\n"
     ]
    }
   ],
   "source": [
    "for i, j in dict_2 .items():                       \n",
    "    print(f\"key : {i:<9}, value : {j}\")\n"
   ]
  },
  {
   "cell_type": "code",
   "execution_count": 131,
   "metadata": {},
   "outputs": [
    {
     "name": "stdout",
     "output_type": "stream",
     "text": [
      "key:       name, value: dilek\n",
      "key:    surname, value: yılmaz\n",
      "key:        age, value: 26\n",
      "key:        job, value: data_scientist\n"
     ]
    }
   ],
   "source": [
    "for i, j in dict_2.items():\n",
    "    print(f\"key: {i:>10}, value: {j}\")"
   ]
  },
  {
   "cell_type": "code",
   "execution_count": 134,
   "metadata": {},
   "outputs": [
    {
     "name": "stdout",
     "output_type": "stream",
     "text": [
      "key:    name   , value:      dilek     \n",
      "key:  surname  , value:     yılmaz     \n",
      "key:    age    , value:       26       \n",
      "key:    job    , value: data_scientist \n"
     ]
    }
   ],
   "source": [
    "for i, j in dict_2.items():\n",
    "    print(f\"key: {i:^10}, value: {j:^15}\")   # ^ ifadesi ortalıyor"
   ]
  },
  {
   "cell_type": "code",
   "execution_count": null,
   "metadata": {},
   "outputs": [],
   "source": [
    "# çalıştırma sonsuz döngü\n",
    "liste = [\"sonsuz döngü\"]\n",
    "for i in liste:\n",
    "    print(i)\n",
    "    liste.append(5)\n"
   ]
  },
  {
   "cell_type": "code",
   "execution_count": 135,
   "metadata": {},
   "outputs": [
    {
     "data": {
      "text/plain": [
       "'      techpro       '"
      ]
     },
     "execution_count": 135,
     "metadata": {},
     "output_type": "execute_result"
    }
   ],
   "source": [
    "\"techpro\" .center(20)"
   ]
  },
  {
   "cell_type": "code",
   "execution_count": 136,
   "metadata": {},
   "outputs": [
    {
     "data": {
      "text/plain": [
       "'techpro             '"
      ]
     },
     "execution_count": 136,
     "metadata": {},
     "output_type": "execute_result"
    }
   ],
   "source": [
    "\"techpro\" .ljust(20)"
   ]
  },
  {
   "cell_type": "code",
   "execution_count": 138,
   "metadata": {},
   "outputs": [
    {
     "data": {
      "text/plain": [
       "'             techpro'"
      ]
     },
     "execution_count": 138,
     "metadata": {},
     "output_type": "execute_result"
    }
   ],
   "source": [
    "\"techpro\" .rjust(20)"
   ]
  },
  {
   "cell_type": "code",
   "execution_count": 140,
   "metadata": {},
   "outputs": [
    {
     "data": {
      "text/plain": [
       "[1, 2, 3, 4, 5, 6, 7, 8, 9, 10]"
      ]
     },
     "execution_count": 140,
     "metadata": {},
     "output_type": "execute_result"
    }
   ],
   "source": [
    "list(range(1,11))"
   ]
  },
  {
   "cell_type": "code",
   "execution_count": 142,
   "metadata": {},
   "outputs": [
    {
     "name": "stdout",
     "output_type": "stream",
     "text": [
      "1  : Kıyamam ki\n",
      "2  : Kıyamam ki\n",
      "3  : Kıyamam ki\n",
      "4  : Kıyamam ki\n",
      "5  : Kıyamam ki\n",
      "6  : Kıyamam ki\n",
      "7  : Kıyamam ki\n",
      "8  : Kıyamam ki\n",
      "9  : Kıyamam ki\n",
      "10 : Kıyamam ki\n",
      "11 : Kıyamam ki\n",
      "12 : Kıyamam ki\n",
      "13 : Kıyamam ki\n",
      "14 : Kıyamam ki\n",
      "15 : Kıyamam ki\n",
      "16 : Kıyamam ki\n",
      "17 : Kıyamam ki\n",
      "18 : Kıyamam ki\n",
      "19 : Kıyamam ki\n",
      "20 : Kıyamam ki\n",
      "21 : Kıyamam ki\n",
      "22 : Kıyamam ki\n",
      "23 : Kıyamam ki\n",
      "24 : Kıyamam ki\n",
      "25 : Kıyamam ki\n",
      "26 : Kıyamam ki\n",
      "27 : Kıyamam ki\n",
      "28 : Kıyamam ki\n",
      "29 : Kıyamam ki\n",
      "30 : Kıyamam ki\n",
      "31 : Kıyamam ki\n",
      "32 : Kıyamam ki\n",
      "33 : Kıyamam ki\n",
      "34 : Kıyamam ki\n",
      "35 : Kıyamam ki\n",
      "36 : Kıyamam ki\n",
      "37 : Kıyamam ki\n",
      "38 : Kıyamam ki\n",
      "39 : Kıyamam ki\n",
      "40 : Kıyamam ki\n",
      "41 : Kıyamam ki\n",
      "42 : Kıyamam ki\n",
      "43 : Kıyamam ki\n",
      "44 : Kıyamam ki\n",
      "45 : Kıyamam ki\n",
      "46 : Kıyamam ki\n",
      "47 : Kıyamam ki\n",
      "48 : Kıyamam ki\n",
      "49 : Kıyamam ki\n",
      "50 : Kıyamam ki\n"
     ]
    }
   ],
   "source": [
    "for i in range(1,51):\n",
    "    print(f\"{i:<2} : Kıyamam ki\")"
   ]
  },
  {
   "cell_type": "code",
   "execution_count": null,
   "metadata": {},
   "outputs": [],
   "source": []
  },
  {
   "cell_type": "code",
   "execution_count": null,
   "metadata": {},
   "outputs": [],
   "source": []
  },
  {
   "cell_type": "code",
   "execution_count": null,
   "metadata": {},
   "outputs": [],
   "source": []
  },
  {
   "cell_type": "code",
   "execution_count": null,
   "metadata": {},
   "outputs": [],
   "source": []
  },
  {
   "cell_type": "code",
   "execution_count": null,
   "metadata": {},
   "outputs": [],
   "source": []
  }
 ],
 "metadata": {
  "kernelspec": {
   "display_name": "Python 3",
   "language": "python",
   "name": "python3"
  },
  "language_info": {
   "codemirror_mode": {
    "name": "ipython",
    "version": 3
   },
   "file_extension": ".py",
   "mimetype": "text/x-python",
   "name": "python",
   "nbconvert_exporter": "python",
   "pygments_lexer": "ipython3",
   "version": "3.12.2"
  }
 },
 "nbformat": 4,
 "nbformat_minor": 2
}
